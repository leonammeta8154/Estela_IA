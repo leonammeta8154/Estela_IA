{
  "nbformat": 4,
  "nbformat_minor": 0,
  "metadata": {
    "colab": {
      "provenance": [],
      "authorship_tag": "ABX9TyPlUQ3Zi6YAwtKmHj/QEeSF",
      "include_colab_link": true
    },
    "kernelspec": {
      "name": "python3",
      "display_name": "Python 3"
    },
    "language_info": {
      "name": "python"
    }
  },
  "cells": [
    {
      "cell_type": "markdown",
      "metadata": {
        "id": "view-in-github",
        "colab_type": "text"
      },
      "source": [
        "<a href=\"https://colab.research.google.com/github/leonammeta8154/Estela_IA/blob/main/Estela_02.ipynb\" target=\"_parent\"><img src=\"https://colab.research.google.com/assets/colab-badge.svg\" alt=\"Open In Colab\"/></a>"
      ]
    },
    {
      "cell_type": "code",
      "execution_count": 54,
      "metadata": {
        "id": "pkvLRtDD7QN-"
      },
      "outputs": [],
      "source": [
        "from IPython import get_ipython\n",
        "from IPython.display import display\n",
        "# %%\n",
        "!pip install -q google-generativeai\n",
        "\n",
        "import google.generativeai as genai\n",
        "import datetime\n",
        "from IPython.display import FileLink\n",
        "import os\n",
        "from google.colab import userdata # Import userdata\n",
        "\n",
        "# Configure the API key directly using genai.configure\n",
        "genai.configure(api_key=userdata.get('GOOGLE_API_KEY'))\n",
        "\n",
        "model = genai.GenerativeModel('gemini-2.0-flash')\n",
        "\n",
        "def executar_agente(prompt):\n",
        "    response = model.generate_content(prompt)\n",
        "    return response.text\n",
        ""
      ]
    },
    {
      "cell_type": "code",
      "source": [
        "# Agente 1 – Pesquisa de Negócios Relevantes com base no perfil da usuária\n",
        "import datetime\n",
        "\n",
        "# Data de hoje formatada\n",
        "hoje = datetime.date.today().strftime(\"%d/%m/%Y\")\n",
        "\n",
        "# Instruções formatadas para o agente\n",
        "instrucoes_agente_1 = f\"\"\"\n",
        "Você é uma assistente de pesquisa. Sua tarefa é usar a ferramenta de busca do (google_search) para encontrar opções de negócios relevantes com base no perfil abaixo.\n",
        "\n",
        "Foque em, no máximo, 5 ideias que estejam gerando entusiasmo e relevância nos últimos 3 anos (até {hoje}), com base em tendências e reações positivas da mídia.\n",
        "\n",
        "Ignore ideias com pouca cobertura ou repercussão.\n",
        "\n",
        "Perfil da usuária:\n",
        "\"\"\"\n",
        "\n",
        "# Informações recebidas nas perguntas ao usuário\n",
        "perfil_usuaria = f\"\"\"\n",
        "Nome: {nome}\n",
        "Objetivo: {objetivo}\n",
        "Ideia de negócio: {tem_ideia}\n",
        "Experiência: {experiencia}\n",
        "Maior preocupação: {maior_duvida}\n",
        "\"\"\"\n",
        "\n",
        "# Combina as instruções com o perfil da usuária\n",
        "prompt_completo = instrucoes_agente_1 + perfil_usuaria\n",
        "\n",
        "# Execução do agente\n",
        "resultado_agente_1 = executar_agente(prompt_completo)\n",
        "\n",
        "#print(resultado_agente_1)\n",
        "\n"
      ],
      "metadata": {
        "colab": {
          "base_uri": "https://localhost:8080/"
        },
        "id": "OaEGXzcMAC98",
        "outputId": "fd9f8001-be7b-4c47-e660-8f56418131e1"
      },
      "execution_count": 52,
      "outputs": [
        {
          "output_type": "stream",
          "name": "stdout",
          "text": [
            "Prompt enviado ao agente:\n",
            "\n",
            "Você é uma assistente de pesquisa. Sua tarefa é usar a ferramenta de busca do (google_search) para encontrar opções de negócios relevantes com base no perfil abaixo.\n",
            "\n",
            "Foque em, no máximo, 5 ideias que estejam gerando entusiasmo e relevância nos últimos 3 anos (até 17/05/2025), com base em tendências e reações positivas da mídia.\n",
            "\n",
            "Ignore ideias com pouca cobertura ou repercussão.\n",
            "\n",
            "Perfil da usuária:\n",
            "\n",
            "Nome: maria\n",
            "Objetivo: renda extra\n",
            "Ideia de negócio: roupas para pet\n",
            "Experiência: marketing\n",
            "Maior preocupação: custo\n",
            "\n"
          ]
        }
      ]
    },
    {
      "cell_type": "code",
      "source": [
        "# Agente 2\n",
        "instrucoes_agente_2 = \"\"\"\n",
        "Você é um analista de negócios. Sua tarefa é fazer uma avaliação básica de mercado, público-alvo e diferenciais competitivos de uma ideia de negócio fornecida.\n",
        "\"\"\"\n",
        "\n",
        "# Usando a ideia da usuária capturada anteriormente\n",
        "prompt_agente_2 = f\"{instrucoes_agente_2}\\n\\nIdeia: {tem_ideia}\"\n",
        "\n",
        "resultado_agente_2 = executar_agente(prompt_agente_2)\n",
        "print(resultado_agente_2)\n"
      ],
      "metadata": {
        "colab": {
          "base_uri": "https://localhost:8080/"
        },
        "id": "A1pUS1x4DGVu",
        "outputId": "ae68f67e-fb2e-49a2-cab8-149b04e5c361"
      },
      "execution_count": 51,
      "outputs": [
        {
          "output_type": "stream",
          "name": "stdout",
          "text": [
            "Prompt enviado ao agente:\n",
            "\n",
            "Você é um analista de negócios. Sua tarefa é fazer uma avaliação básica de mercado, público-alvo e diferenciais competitivos de uma ideia de negócio fornecida.\n",
            "\n",
            "\n",
            "Ideia: roupas para pet\n",
            "Resultados da pesquisa de tendências simulados...\n"
          ]
        }
      ]
    },
    {
      "cell_type": "code",
      "source": [
        "# Agente 3\n",
        "instrucoes_agente_3 = \"\"\"\n",
        "Crie um plano de negócios simples, direto e sem muitos termos técnicos.\n",
        "No final, gere um texto para ser salvo como um arquivo .txt.\n",
        "\"\"\"\n",
        "\n",
        "# Usando a ideia da usuária capturada antes\n",
        "prompt_agente_3 = f\"{instrucoes_agente_3}\\n\\nIdeia: {tem_ideia}\"\n",
        "\n",
        "resultado_agente_3 = executar_agente(prompt_agente_3)\n",
        "\n",
        "# Gerar arquivo .txt para download\n",
        "arquivo_nome = f\"{nome}_{tem_ideia}.txt\".replace(\" \", \"_\")\n",
        "with open(arquivo_nome, \"w\", encoding=\"utf-8\") as f:\n",
        "    f.write(resultado_agente_3)\n",
        "\n",
        "print(\"Plano de negócio criado:\")\n",
        "print(resultado_agente_3)\n",
        "\n",
        "from IPython.display import FileLink\n",
        "FileLink(arquivo_nome)\n",
        "\n",
        "\n"
      ],
      "metadata": {
        "id": "g8tdCNn4D1BD"
      },
      "execution_count": null,
      "outputs": []
    },
    {
      "cell_type": "code",
      "source": [
        "# Agente 4\n",
        "instrucoes_agente_4 = \"\"\"\n",
        "Você vai recomendar para mulheres opções de cursos e livros ou artigos em sites sobre empreendedorismo com base nos outros agentes.\n",
        "Liste no máximo 5 cursos, 5 livros, 5 arqtigos com links onde possam ser acessados.\n",
        "\"\"\"\n",
        "\n",
        "resultado_agente_4 = executar_agente(instrucoes_agente_4)\n",
        "print(resultado_agente_4)\n"
      ],
      "metadata": {
        "id": "IhMZgEc2EHkg"
      },
      "execution_count": null,
      "outputs": []
    },
    {
      "cell_type": "code",
      "source": [
        "from IPython.display import display, HTML, FileLink\n",
        "import datetime\n",
        "import os\n",
        "from pathlib import Path\n",
        "import base64\n",
        "\n",
        "# Configuração do modelo (já definido anteriormente)\n",
        "# genai.configure(api_key=userdata.get('GOOGLE_API_KEY'))\n",
        "# model = genai.GenerativeModel('gemini-2.0-flash')\n",
        "\n",
        "def executar_agente(prompt):\n",
        "    response = model.generate_content(prompt)\n",
        "    return response.text\n",
        "\n",
        "# Interface inicial\n",
        "print(f\"\\n{'='*100}\\nOLÁ, EU SOU A ESTELA!\\nSua Assistente para Criação de Negócios\\n{'='*100}\")\n",
        "\n",
        "# Coleta de informações\n",
        "dados = {\n",
        "    'nome': input(\"\\n1️⃣ Qual é o seu nome? \").strip(),\n",
        "    'objetivo': input(\"\\n2️⃣ Qual seu objetivo principal? (Criar negócio, renda extra, mudar carreira): \").strip(),\n",
        "    'ideia': input(\"\\n3️⃣ Tem alguma ideia de negócio? Descreva brevemente: \").strip(),\n",
        "    'experiencia': input(\"\\n4️⃣ Sua experiência profissional/formação: \").strip(),\n",
        "    'duvida': input(\"\\n5️⃣ Sua maior preocupação ao começar: \").strip()\n",
        "}\n",
        "\n",
        "# Processamento com os agentes\n",
        "print(\"\\n🔍 Analisando suas informações...\")\n",
        "\n",
        "# Agente 1 - Tendências\n",
        "resultado_agente1 = executar_agente(f\"\"\"\n",
        "Identifique 3-5 tendências de negócios alinhadas com:\n",
        "- Objetivo: {dados['objetivo']}\n",
        "- Experiência: {dados['experiencia']}\n",
        "- Foco nos últimos 2 anos\n",
        "Formato: lista com breve descrição de cada\n",
        "\"\"\")\n",
        "\n",
        "# Agente 2 - Viabilidade\n",
        "resultado_agente2 = executar_agente(f\"\"\"\n",
        "Analise esta ideia de negócio:\n",
        "- Ideia: {dados['ideia']}\n",
        "- Experiência: {dados['experiencia']}\n",
        "Inclua:\n",
        "1. Pontos fortes\n",
        "2. Desafios\n",
        "3. 3 recomendações\n",
        "\"\"\")\n",
        "\n",
        "# Agente 3 - Plano de Negócios\n",
        "plano_texto = executar_agente(f\"\"\"\n",
        "Crie um plano de negócios para:\n",
        "- Nome: {dados['nome']}\n",
        "- Ideia: {dados['ideia']}\n",
        "Inclua:\n",
        "1. Resumo executivo\n",
        "2. Público-alvo\n",
        "3. Estratégias básicas\n",
        "4. Próximos passos (30 dias)\n",
        "Formato: claro e direto, sem jargões\n",
        "\"\"\")\n",
        "\n",
        "# Agente 4 - Recursos\n",
        "resultado_agente4 = executar_agente(f\"\"\"\n",
        "Recomende recursos para:\n",
        "- Objetivo: {dados['objetivo']}\n",
        "- Dúvida: {dados['duvida']}\n",
        "Inclua:\n",
        "1. 1 curso gratuito\n",
        "2. 1 livro (R$<50)\n",
        "3. 1 ferramenta gratuita\n",
        "4. 1 comunidade\n",
        "Com links quando possível\n",
        "\"\"\")\n",
        "\n",
        "# Geração do arquivo com múltiplas opções de download\n",
        "def gerar_arquivo_download():\n",
        "    try:\n",
        "        # Cria diretório se não existir\n",
        "        os.makedirs(\"Planos_Negocio\", exist_ok=True)\n",
        "\n",
        "        # Nome do arquivo seguro\n",
        "        nome_arquivo = f\"Plano_{dados['nome'][:15].replace(' ','_')}_{datetime.date.today().strftime('%Y%m%d')}.txt\"\n",
        "        caminho = os.path.join(\"Planos_Negocio\", nome_arquivo)\n",
        "\n",
        "        # Conteúdo consolidado\n",
        "        conteudo = f\"\"\"\n",
        "{'='*50}\n",
        "PLANO DE NEGÓCIOS - {dados['nome'].upper()}\n",
        "Data: {datetime.date.today().strftime('%d/%m/%Y')}\n",
        "{'='*50}\n",
        "\n",
        "📌 SEU PERFIL:\n",
        "Nome: {dados['nome']}\n",
        "Objetivo: {dados['objetivo']}\n",
        "Ideia: {dados['ideia']}\n",
        "Experiência: {dados['experiencia']}\n",
        "Preocupação principal: {dados['duvida']}\n",
        "\n",
        "🚀 TENDÊNCIAS RECOMENDADAS:\n",
        "{resultado_agente1}\n",
        "\n",
        "📊 ANÁLISE DE VIABILIDADE:\n",
        "{resultado_agente2}\n",
        "\n",
        "📝 PLANO DE AÇÃO:\n",
        "{plano_texto}\n",
        "\n",
        "📚 RECURSOS ÚTEIS:\n",
        "{resultado_agente4}\n",
        "\"\"\"\n",
        "        # Salva o arquivo\n",
        "        with open(caminho, \"w\", encoding=\"utf-8\") as f:\n",
        "            f.write(conteudo)\n",
        "\n",
        "        # Opção 1: Link direto para notebooks\n",
        "        try:\n",
        "            display(FileLink(caminho))\n",
        "            print(\"⬇️ Clique no link acima para baixar (Jupyter/Colab)\")\n",
        "        except:\n",
        "            pass\n",
        "\n",
        "        # Opção 2: Botão HTML para outros ambientes\n",
        "        with open(caminho, \"rb\") as f:\n",
        "            b64 = base64.b64encode(f.read()).decode()\n",
        "\n",
        "        display(HTML(f\"\"\"\n",
        "        <div style=\"margin:20px; padding:15px; border:1px solid #ddd; border-radius:5px;\">\n",
        "            <h3 style=\"color:#2c3e50;\">Seu plano está pronto!</h3>\n",
        "            <a href=\"data:file/txt;base64,{b64}\" download=\"{nome_arquivo}\"\n",
        "               style=\"background:#3498db; color:white; padding:10px 15px;\n",
        "               text-decoration:none; border-radius:4px; display:inline-block;\">\n",
        "               📥 Baixar Plano Completo\n",
        "            </a>\n",
        "            <p style=\"font-size:12px; margin-top:8px;\">Arquivo: {nome_arquivo}</p>\n",
        "        </div>\n",
        "        \"\"\"))\n",
        "\n",
        "        # Opção 3: Caminho manual\n",
        "        print(f\"\\n📍 Arquivo salvo em: {os.path.abspath(caminho)}\")\n",
        "\n",
        "        return caminho\n",
        "\n",
        "    except Exception as e:\n",
        "        print(f\"⚠️ Erro ao gerar arquivo: {str(e)}\")\n",
        "        return None\n",
        "\n",
        "# Execução principal\n",
        "print(\"\\n⏳ Gerando seu plano completo...\")\n",
        "arquivo = gerar_arquivo_download()\n",
        "\n",
        "if arquivo:\n",
        "    print(f\"\\n{'='*100}\")\n",
        "    print(\"✅ PRONTO! Seu plano de negócios foi criado com sucesso!\")\n",
        "    print(\"💡 Dicas:\")\n",
        "    print(\"1. Revise cada seção\")\n",
        "    print(\"2. Escolha 3 ações para começar esta semana\")\n",
        "    print(\"3. Compartilhe com alguém de confiança\")\n",
        "    print(f\"\\n✨ Você deu o primeiro passo! Agora é hora da Ação ✨!!!!\")\n",
        "    print(f\"{'='*100}\")\n",
        "    print(\"Se você gostou do meu projeto, vote, comente e compartilhe para que possamos juntos ajudar mais mulheres a empreender.\")\n",
        "    print(f\"{'='*100}\")\n",
        "\n",
        "\n",
        "else:\n",
        "    print(\"\\nOcorreu um erro. Por favor, tente novamente.\")"
      ],
      "metadata": {
        "colab": {
          "base_uri": "https://localhost:8080/",
          "height": 834
        },
        "id": "Dit1QZwaM8ij",
        "outputId": "fa82ab31-7234-4a83-9cb3-04ed0b540c9d"
      },
      "execution_count": 81,
      "outputs": [
        {
          "output_type": "stream",
          "name": "stdout",
          "text": [
            "\n",
            "====================================================================================================\n",
            "OLÁ, EU SOU A ESTELA!\n",
            "Sua Assistente para Criação de Negócios\n",
            "====================================================================================================\n",
            "\n",
            "1️⃣ Qual é o seu nome? Ione\n",
            "\n",
            "2️⃣ Qual seu objetivo principal? (Criar negócio, renda extra, mudar carreira): renda extra\n",
            "\n",
            "3️⃣ Tem alguma ideia de negócio? Descreva brevemente: roupas para petes\n",
            "\n",
            "4️⃣ Sua experiência profissional/formação: direito\n",
            "\n",
            "5️⃣ Sua maior preocupação ao começar: tempo\n",
            "\n",
            "🔍 Analisando suas informações...\n",
            "\n",
            "⏳ Gerando seu plano completo...\n"
          ]
        },
        {
          "output_type": "display_data",
          "data": {
            "text/plain": [
              "/content/Planos_Negocio/Plano_Ione_20250517.txt"
            ],
            "text/html": [
              "<a href='Planos_Negocio/Plano_Ione_20250517.txt' target='_blank'>Planos_Negocio/Plano_Ione_20250517.txt</a><br>"
            ]
          },
          "metadata": {}
        },
        {
          "output_type": "stream",
          "name": "stdout",
          "text": [
            "⬇️ Clique no link acima para baixar (Jupyter/Colab)\n"
          ]
        },
        {
          "output_type": "display_data",
          "data": {
            "text/plain": [
              "<IPython.core.display.HTML object>"
            ],
            "text/html": [
              "\n",
              "        <div style=\"margin:20px; padding:15px; border:1px solid #ddd; border-radius:5px;\">\n",
              "            <h3 style=\"color:#2c3e50;\">Seu plano está pronto!</h3>\n",
              "            <a href=\"data:file/txt;base64,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\" download=\"Plano_Ione_20250517.txt\"\n",
              "               style=\"background:#3498db; color:white; padding:10px 15px; \n",
              "               text-decoration:none; border-radius:4px; display:inline-block;\">\n",
              "               📥 Baixar Plano Completo\n",
              "            </a>\n",
              "            <p style=\"font-size:12px; margin-top:8px;\">Arquivo: Plano_Ione_20250517.txt</p>\n",
              "        </div>\n",
              "        "
            ]
          },
          "metadata": {}
        },
        {
          "output_type": "stream",
          "name": "stdout",
          "text": [
            "\n",
            "📍 Arquivo salvo em: /content/Planos_Negocio/Plano_Ione_20250517.txt\n",
            "\n",
            "====================================================================================================\n",
            "✅ PRONTO! Seu plano de negócios foi criado com sucesso!\n",
            "💡 Dicas:\n",
            "1. Revise cada seção\n",
            "2. Escolha 3 ações para começar esta semana\n",
            "3. Compartilhe com alguém de confiança\n",
            "\n",
            "✨ Você deu o primeiro passo! Agora é hora de ação ✨\n",
            "====================================================================================================\n",
            "Se você gostou do meu projeto, vote, comente e compartilhe para que possamos juntos ajudar mais mulheres a empreender.\n",
            "====================================================================================================\n"
          ]
        }
      ]
    }
  ]
}