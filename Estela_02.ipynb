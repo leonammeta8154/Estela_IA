{
  "nbformat": 4,
  "nbformat_minor": 0,
  "metadata": {
    "colab": {
      "provenance": [],
      "authorship_tag": "ABX9TyPH2teouu45e/Y3aVsmwJz6",
      "include_colab_link": true
    },
    "kernelspec": {
      "name": "python3",
      "display_name": "Python 3"
    },
    "language_info": {
      "name": "python"
    }
  },
  "cells": [
    {
      "cell_type": "markdown",
      "metadata": {
        "id": "view-in-github",
        "colab_type": "text"
      },
      "source": [
        "<a href=\"https://colab.research.google.com/github/leonammeta8154/Estela_IA/blob/main/Estela_02.ipynb\" target=\"_parent\"><img src=\"https://colab.research.google.com/assets/colab-badge.svg\" alt=\"Open In Colab\"/></a>"
      ]
    },
    {
      "cell_type": "code",
      "execution_count": 39,
      "metadata": {
        "id": "pkvLRtDD7QN-"
      },
      "outputs": [],
      "source": [
        "from IPython import get_ipython\n",
        "from IPython.display import display\n",
        "# %%\n",
        "!pip install -q google-generativeai\n",
        "\n",
        "import google.generativeai as genai\n",
        "import datetime\n",
        "from IPython.display import FileLink\n",
        "import os\n",
        "from google.colab import userdata # Import userdata\n",
        "\n",
        "# Configure the API key directly using genai.configure\n",
        "genai.configure(api_key=userdata.get('GOOGLE_API_KEY'))\n",
        "\n",
        "model = genai.GenerativeModel('gemini-2.0-flash')\n",
        "\n",
        "def executar_agente(prompt):\n",
        "    response = model.generate_content(prompt)\n",
        "    return response.text\n",
        ""
      ]
    },
    {
      "cell_type": "code",
      "source": [
        "#Agente 1 – Pesquisa de Negócios Relevantes\n",
        "import datetime\n",
        "\n",
        "# Data de hoje formatada\n",
        "hoje = datetime.date.today().strftime(\"%d/%m/%Y\")\n",
        "\n",
        "# Instruções formatadas para o agente\n",
        "instrucoes_agente_1 = f\"\"\"\n",
        "Você é uma assistente de pesquisa. Sua tarefa é usar a ferramenta de busca do (google_search) para encontrar opções de negócios relevantes.\n",
        "\n",
        "Foque em, no máximo, 5 notícias sobre negócios que estejam gerando entusiasmo e tenham relevância — com base na quantidade de notícias e nas reações positivas.\n",
        "\n",
        "Ignore ideias com pouca cobertura na mídia ou com baixa repercussão. Considere apenas lançamentos e tendências dos últimos 3 anos (até {hoje}).\n",
        "\"\"\"\n",
        "\n",
        "# Execução simulada do agente (em um sistema real, conecte à Google Search API)\n",
        "topico = \"ideias de negócio promissoras no Brasil\"\n",
        "prompt_completo = instrucoes_agente_1 + f\"\\n\\nTópico: {topico}\"\n",
        "\n",
        "resultado_agente_1 = executar_agente(prompt_completo)\n",
        "\n",
        "##print(resultado_agente_1)\n",
        "\n"
      ],
      "metadata": {
        "id": "OaEGXzcMAC98"
      },
      "execution_count": 40,
      "outputs": []
    },
    {
      "cell_type": "code",
      "source": [
        "# Agente 2\n",
        "instrucoes_agente_2 = \"\"\"\n",
        "Você é um analista de negócios. Sua tarefa é fazer uma avaliação básica de mercado, público-alvo e diferenciais competitivos de uma ideia de negócio fornecida.\n",
        "\"\"\"\n",
        "\n",
        "# Simulação de ideia\n",
        "##ideia_negocio = \"roupas de academia\"\n",
        "\n",
        "prompt_agente_2 = f\"{instrucoes_agente_2}\\n\\nIdeia: {ideia_negocio}\"\n",
        "\n",
        "resultado_agente_2 = executar_agente(prompt_agente_2)\n",
        "print(resultado_agente_2)\n"
      ],
      "metadata": {
        "id": "A1pUS1x4DGVu"
      },
      "execution_count": null,
      "outputs": []
    },
    {
      "cell_type": "code",
      "source": [
        "# Agente 3\n",
        "instrucoes_agente_3 = \"\"\"\n",
        "Crie um plano de negócios simples, direto e sem muitos termos técnicos.\n",
        "No final, gere um texto para ser salvo como um arquivo .txt.\n",
        "\"\"\"\n",
        "\n",
        "prompt_agente_3 = f\"{instrucoes_agente_3}\\n\\nIdeia: {ideia_negocio}\"\n",
        "\n",
        "resultado_agente_3 = executar_agente(prompt_agente_3)\n",
        "\n",
        "# Gerar arquivo .txt para download\n",
        "arquivo_nome = \"plano_negocio.txt\"\n",
        "with open(arquivo_nome, \"w\", encoding=\"utf-8\") as f:\n",
        "    f.write(resultado_agente_3)\n",
        "\n",
        "print(\"Plano de negócio criado:\")\n",
        "print(resultado_agente_3)\n",
        "FileLink(arquivo_nome)\n"
      ],
      "metadata": {
        "id": "g8tdCNn4D1BD"
      },
      "execution_count": null,
      "outputs": []
    },
    {
      "cell_type": "code",
      "source": [
        "# Agente 4\n",
        "instrucoes_agente_4 = \"\"\"\n",
        "Você vai recomendar para mulheres opções de cursos e livros ou artigos em sites sobre empreendedorismo com base nos outros agentes.\n",
        "Liste no máximo 5 cursos, 5 livros, 5 arqtigos com links onde possam ser acessados.\n",
        "\"\"\"\n",
        "\n",
        "resultado_agente_4 = executar_agente(instrucoes_agente_4)\n",
        "print(resultado_agente_4)\n"
      ],
      "metadata": {
        "id": "IhMZgEc2EHkg"
      },
      "execution_count": null,
      "outputs": []
    },
    {
      "cell_type": "code",
      "source": [
        "ideia_usuario = input(\"Descreva sua ideia de negócio:\\n\")\n",
        "prompt_agente_2_usuario = f\"{instrucoes_agente_2}\\n\\nIdeia: {ideia_usuario}\"\n",
        "print(executar_agente(prompt_agente_2_usuario))\n",
        "\n"
      ],
      "metadata": {
        "id": "u7rOD9hXEsE3"
      },
      "execution_count": null,
      "outputs": []
    },
    {
      "cell_type": "code",
      "source": [
        "# ⬅️ Supondo que as instruções dos agentes e a função executar_agente() já estão definidas acima\n",
        "\n",
        "# Perguntas para entender melhor a usuária\n",
        "\n",
        "print(f\"Olá, eu sou ESTELA, sua assistente de IA que irá te ajudar a montar seu próprio negócio!\")\n",
        "\n",
        "nome = input(\"1️⃣ Qual é o seu nome?\\n\")\n",
        "objetivo = input(\"2️⃣ Qual é o seu principal objetivo agora, amiga? (Criar um negócio, fazer uma renda extra, mudar de carreira, outro?)\\n\")\n",
        "tem_ideia = input(\"3️⃣ Você já tem alguma ideia de negócio em mente?\\n\")\n",
        "experiencia = input(\"4️⃣ Você tem alguma experiência profissional ou área de formação? (Ex: marketing, direito, enfermagem...)\\n\")\n",
        "maior_duvida = input(\"5️⃣ Qual é a sua maior preocupação ou dúvida ao começar seu negócio?\\n\")\n",
        "\n",
        "# Juntando tudo numa descrição mais clara para os agentes\n",
        "ideia_usuario = f\"\"\"\n",
        "Nome: {nome}\n",
        "Objetivo: {objetivo}\n",
        "Ideia de negócio: {tem_ideia}\n",
        "Experiência: {experiencia}\n",
        "Maior preocupação: {maior_duvida}\n",
        "\"\"\"\n",
        "\n",
        "# ---------- Agente 1: Pesquisa de tendências ----------\n",
        "hoje = datetime.date.today().strftime(\"%d/%m/%Y\")\n",
        "instrucoes_agente_1 = f\"\"\"\n",
        "Você é uma assistente de pesquisa. Sua tarefa é usar a ferramenta de busca do (google_search) para encontrar opções de negócios relevantes.\n",
        "Foque em, no máximo, 5 notícias sobre negócios que estejam gerando entusiasmo e tenham relevância — com base na quantidade de notícias e nas reações positivas.\n",
        "Ignore ideias com pouca cobertura na mídia ou com baixa repercussão. Considere apenas lançamentos e tendências dos últimos 3 anos (até {hoje}).\n",
        "\"\"\"\n",
        "topico = \"ideias de negócio promissoras no Brasil\"\n",
        "prompt_agente_1 = instrucoes_agente_1 + f\"\\n\\nTópico: {topico}\"\n",
        "print(\"\\n🔎 Agente 1 — Pesquisa de tendências:\\n\")\n",
        "print(executar_agente(prompt_agente_1))\n",
        "\n",
        "# ---------- Agente 2: Análise de viabilidade ----------\n",
        "instrucoes_agente_2 = \"\"\"\n",
        "Você é uma especialista em análise de negócios. Avalie a ideia da usuária com base no mercado, público-alvo e possíveis diferenciais.\n",
        "\"\"\"\n",
        "prompt_agente_2 = f\"{instrucoes_agente_2}\\n\\n{ideia_usuario}\"\n",
        "print(\"\\n📊 Agente 2 — Análise de Viabilidade:\\n\")\n",
        "print(executar_agente(prompt_agente_2))\n",
        "\n",
        "# ---------- Agente 3: Plano de Negócios Inicial ----------\n",
        "instrucoes_agente_3 = \"\"\"\n",
        "Crie um plano de negócios inicial, simples, claro, sem termos técnicos. Organize por tópicos e forneça ideias práticas. Gere um conteúdo que possa ser salvo em um arquivo de texto.\n",
        "\"\"\"\n",
        "prompt_agente_3 = f\"{instrucoes_agente_3}\\n\\n{ideia_usuario}\"\n",
        "plano_texto = executar_agente(prompt_agente_3)\n",
        "print(\"\\n📝 Agente 3 — Plano de Negócio:\\n\")\n",
        "print(plano_texto)\n",
        "\n",
        "# Salvando plano em arquivo .txt\n",
        "with open(\"plano_negocio.txt\", \"w\", encoding=\"utf-8\") as f:\n",
        "    f.write(plano_texto)\n",
        "\n",
        "# ---------- Agente 4: Recomendação de Recursos ----------\n",
        "instrucoes_agente_4 = \"\"\"\n",
        "Você vai recomendar para mulheres opções de cursos e livros para empreendedoras iniciantes.\n",
        "Forneça até 5 sugestões entre livros e cursos, com links confiáveis para acesso ou compra.\n",
        "\"\"\"\n",
        "prompt_agente_4 = f\"{instrucoes_agente_4}\\n\\n{ideia_usuario}\"\n",
        "print(\"\\n📚 Agente 4 — Cursos e Livros Recomendados:\\n\")\n",
        "print(executar_agente(prompt_agente_4))\n"
      ],
      "metadata": {
        "id": "r8iNzk7kI62O"
      },
      "execution_count": null,
      "outputs": []
    }
  ]
}