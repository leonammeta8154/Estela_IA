{
  "nbformat": 4,
  "nbformat_minor": 0,
  "metadata": {
    "colab": {
      "provenance": [],
      "authorship_tag": "ABX9TyNf3kgJDSOAx8UEhvDyBAQk",
      "include_colab_link": true
    },
    "kernelspec": {
      "name": "python3",
      "display_name": "Python 3"
    },
    "language_info": {
      "name": "python"
    }
  },
  "cells": [
    {
      "cell_type": "markdown",
      "metadata": {
        "id": "view-in-github",
        "colab_type": "text"
      },
      "source": [
        "<a href=\"https://colab.research.google.com/github/leonammeta8154/Estela_IA/blob/main/Estela_02.ipynb\" target=\"_parent\"><img src=\"https://colab.research.google.com/assets/colab-badge.svg\" alt=\"Open In Colab\"/></a>"
      ]
    },
    {
      "cell_type": "code",
      "execution_count": 54,
      "metadata": {
        "id": "pkvLRtDD7QN-"
      },
      "outputs": [],
      "source": [
        "from IPython import get_ipython\n",
        "from IPython.display import display\n",
        "# %%\n",
        "!pip install -q google-generativeai\n",
        "\n",
        "import google.generativeai as genai\n",
        "import datetime\n",
        "from IPython.display import FileLink\n",
        "import os\n",
        "from google.colab import userdata # Import userdata\n",
        "\n",
        "# Configure the API key directly using genai.configure\n",
        "genai.configure(api_key=userdata.get('GOOGLE_API_KEY'))\n",
        "\n",
        "model = genai.GenerativeModel('gemini-2.0-flash')\n",
        "\n",
        "def executar_agente(prompt):\n",
        "    response = model.generate_content(prompt)\n",
        "    return response.text\n",
        ""
      ]
    },
    {
      "cell_type": "code",
      "source": [
        "# Agente 1 – Pesquisa de Negócios Relevantes com base no perfil da usuária\n",
        "import datetime\n",
        "\n",
        "# Data de hoje formatada\n",
        "hoje = datetime.date.today().strftime(\"%d/%m/%Y\")\n",
        "\n",
        "# Instruções formatadas para o agente\n",
        "instrucoes_agente_1 = f\"\"\"\n",
        "Você é uma assistente de pesquisa. Sua tarefa é usar a ferramenta de busca do (google_search) para encontrar opções de negócios relevantes com base no perfil abaixo.\n",
        "\n",
        "Foque em, no máximo, 5 ideias que estejam gerando entusiasmo e relevância nos últimos 3 anos (até {hoje}), com base em tendências e reações positivas da mídia.\n",
        "\n",
        "Ignore ideias com pouca cobertura ou repercussão.\n",
        "\n",
        "Perfil da usuária:\n",
        "\"\"\"\n",
        "\n",
        "# Informações recebidas nas perguntas ao usuário\n",
        "perfil_usuaria = f\"\"\"\n",
        "Nome: {nome}\n",
        "Objetivo: {objetivo}\n",
        "Ideia de negócio: {tem_ideia}\n",
        "Experiência: {experiencia}\n",
        "Maior preocupação: {maior_duvida}\n",
        "\"\"\"\n",
        "\n",
        "# Combina as instruções com o perfil da usuária\n",
        "prompt_completo = instrucoes_agente_1 + perfil_usuaria\n",
        "\n",
        "# Execução do agente\n",
        "resultado_agente_1 = executar_agente(prompt_completo)\n",
        "\n",
        "#print(resultado_agente_1)\n",
        "\n"
      ],
      "metadata": {
        "colab": {
          "base_uri": "https://localhost:8080/"
        },
        "id": "OaEGXzcMAC98",
        "outputId": "fd9f8001-be7b-4c47-e660-8f56418131e1"
      },
      "execution_count": 52,
      "outputs": [
        {
          "output_type": "stream",
          "name": "stdout",
          "text": [
            "Prompt enviado ao agente:\n",
            "\n",
            "Você é uma assistente de pesquisa. Sua tarefa é usar a ferramenta de busca do (google_search) para encontrar opções de negócios relevantes com base no perfil abaixo.\n",
            "\n",
            "Foque em, no máximo, 5 ideias que estejam gerando entusiasmo e relevância nos últimos 3 anos (até 17/05/2025), com base em tendências e reações positivas da mídia.\n",
            "\n",
            "Ignore ideias com pouca cobertura ou repercussão.\n",
            "\n",
            "Perfil da usuária:\n",
            "\n",
            "Nome: maria\n",
            "Objetivo: renda extra\n",
            "Ideia de negócio: roupas para pet\n",
            "Experiência: marketing\n",
            "Maior preocupação: custo\n",
            "\n"
          ]
        }
      ]
    },
    {
      "cell_type": "code",
      "source": [
        "# Agente 2\n",
        "instrucoes_agente_2 = \"\"\"\n",
        "Você é um analista de negócios. Sua tarefa é fazer uma avaliação básica de mercado, público-alvo e diferenciais competitivos de uma ideia de negócio fornecida.\n",
        "\"\"\"\n",
        "\n",
        "# Usando a ideia da usuária capturada anteriormente\n",
        "prompt_agente_2 = f\"{instrucoes_agente_2}\\n\\nIdeia: {tem_ideia}\"\n",
        "\n",
        "resultado_agente_2 = executar_agente(prompt_agente_2)\n",
        "print(resultado_agente_2)\n"
      ],
      "metadata": {
        "colab": {
          "base_uri": "https://localhost:8080/"
        },
        "id": "A1pUS1x4DGVu",
        "outputId": "ae68f67e-fb2e-49a2-cab8-149b04e5c361"
      },
      "execution_count": 51,
      "outputs": [
        {
          "output_type": "stream",
          "name": "stdout",
          "text": [
            "Prompt enviado ao agente:\n",
            "\n",
            "Você é um analista de negócios. Sua tarefa é fazer uma avaliação básica de mercado, público-alvo e diferenciais competitivos de uma ideia de negócio fornecida.\n",
            "\n",
            "\n",
            "Ideia: roupas para pet\n",
            "Resultados da pesquisa de tendências simulados...\n"
          ]
        }
      ]
    },
    {
      "cell_type": "code",
      "source": [
        "# Agente 3\n",
        "instrucoes_agente_3 = \"\"\"\n",
        "Crie um plano de negócios simples, direto e sem muitos termos técnicos.\n",
        "No final, gere um texto para ser salvo como um arquivo .txt.\n",
        "\"\"\"\n",
        "\n",
        "# Usando a ideia da usuária capturada antes\n",
        "prompt_agente_3 = f\"{instrucoes_agente_3}\\n\\nIdeia: {tem_ideia}\"\n",
        "\n",
        "resultado_agente_3 = executar_agente(prompt_agente_3)\n",
        "\n",
        "# Gerar arquivo .txt para download\n",
        "arquivo_nome = f\"{nome}_{tem_ideia}.txt\".replace(\" \", \"_\")\n",
        "with open(arquivo_nome, \"w\", encoding=\"utf-8\") as f:\n",
        "    f.write(resultado_agente_3)\n",
        "\n",
        "print(\"Plano de negócio criado:\")\n",
        "print(resultado_agente_3)\n",
        "\n",
        "from IPython.display import FileLink\n",
        "FileLink(arquivo_nome)\n",
        "\n",
        "\n"
      ],
      "metadata": {
        "id": "g8tdCNn4D1BD"
      },
      "execution_count": null,
      "outputs": []
    },
    {
      "cell_type": "code",
      "source": [
        "# Agente 4\n",
        "instrucoes_agente_4 = \"\"\"\n",
        "Você vai recomendar para mulheres opções de cursos e livros ou artigos em sites sobre empreendedorismo com base nos outros agentes.\n",
        "Liste no máximo 5 cursos, 5 livros, 5 arqtigos com links onde possam ser acessados.\n",
        "\"\"\"\n",
        "\n",
        "resultado_agente_4 = executar_agente(instrucoes_agente_4)\n",
        "print(resultado_agente_4)\n"
      ],
      "metadata": {
        "id": "IhMZgEc2EHkg"
      },
      "execution_count": null,
      "outputs": []
    },
    {
      "cell_type": "code",
      "source": [
        "from IPython.display import display, HTML, FileLink\n",
        "import datetime\n",
        "import os\n",
        "from pathlib import Path\n",
        "import base64\n",
        "\n",
        "# Configuração do modelo (já definido anteriormente)\n",
        "# genai.configure(api_key=userdata.get('GOOGLE_API_KEY'))\n",
        "# model = genai.GenerativeModel('gemini-2.0-flash')\n",
        "\n",
        "def executar_agente(prompt):\n",
        "    response = model.generate_content(prompt)\n",
        "    return response.text\n",
        "\n",
        "# Interface inicial\n",
        "print(f\"\\n{'='*100}\\nOLÁ, EU SOU A ESTELA!\\nSua Assistente para Criação de Negócios\\n{'='*100}\")\n",
        "\n",
        "# Coleta de informações\n",
        "dados = {\n",
        "    'nome': input(\"\\n1️⃣ Qual é o seu nome? \").strip(),\n",
        "    'objetivo': input(\"\\n2️⃣ Qual seu objetivo principal? (Criar negócio, renda extra, mudar carreira): \").strip(),\n",
        "    'ideia': input(\"\\n3️⃣ Tem alguma ideia de negócio? Descreva brevemente: \").strip(),\n",
        "    'experiencia': input(\"\\n4️⃣ Sua experiência profissional/formação: \").strip(),\n",
        "    'duvida': input(\"\\n5️⃣ Sua maior preocupação ao começar: \").strip()\n",
        "}\n",
        "\n",
        "# Processamento com os agentes\n",
        "print(\"\\n🔍 Analisando suas informações...\")\n",
        "\n",
        "# Agente 1 - Tendências\n",
        "resultado_agente1 = executar_agente(f\"\"\"\n",
        "Identifique 3-5 tendências de negócios alinhadas com:\n",
        "- Objetivo: {dados['objetivo']}\n",
        "- Experiência: {dados['experiencia']}\n",
        "- Foco nos últimos 2 anos\n",
        "Formato: lista com breve descrição de cada\n",
        "\"\"\")\n",
        "\n",
        "# Agente 2 - Viabilidade\n",
        "resultado_agente2 = executar_agente(f\"\"\"\n",
        "Analise esta ideia de negócio:\n",
        "- Ideia: {dados['ideia']}\n",
        "- Experiência: {dados['experiencia']}\n",
        "Inclua:\n",
        "1. Pontos fortes\n",
        "2. Desafios\n",
        "3. 3 recomendações\n",
        "\"\"\")\n",
        "\n",
        "# Agente 3 - Plano de Negócios\n",
        "plano_texto = executar_agente(f\"\"\"\n",
        "Crie um plano de negócios para:\n",
        "- Nome: {dados['nome']}\n",
        "- Ideia: {dados['ideia']}\n",
        "Inclua:\n",
        "1. Resumo executivo\n",
        "2. Público-alvo\n",
        "3. Estratégias básicas\n",
        "4. Próximos passos (30 dias)\n",
        "Formato: claro e direto, sem jargões\n",
        "\"\"\")\n",
        "\n",
        "# Agente 4 - Recursos\n",
        "resultado_agente4 = executar_agente(f\"\"\"\n",
        "Recomende recursos para:\n",
        "- Objetivo: {dados['objetivo']}\n",
        "- Dúvida: {dados['duvida']}\n",
        "Inclua:\n",
        "1. 1 curso gratuito\n",
        "2. 1 livro (R$<50)\n",
        "3. 1 ferramenta gratuita\n",
        "4. 1 comunidade\n",
        "Com links quando possível\n",
        "\"\"\")\n",
        "\n",
        "# Geração do arquivo com múltiplas opções de download\n",
        "def gerar_arquivo_download():\n",
        "    try:\n",
        "        # Cria diretório se não existir\n",
        "        os.makedirs(\"Planos_Negocio\", exist_ok=True)\n",
        "\n",
        "        # Nome do arquivo seguro\n",
        "        nome_arquivo = f\"Plano_{dados['nome'][:15].replace(' ','_')}_{datetime.date.today().strftime('%Y%m%d')}.txt\"\n",
        "        caminho = os.path.join(\"Planos_Negocio\", nome_arquivo)\n",
        "\n",
        "        # Conteúdo consolidado\n",
        "        conteudo = f\"\"\"\n",
        "{'='*50}\n",
        "PLANO DE NEGÓCIOS - {dados['nome'].upper()}\n",
        "Data: {datetime.date.today().strftime('%d/%m/%Y')}\n",
        "{'='*50}\n",
        "\n",
        "📌 SEU PERFIL:\n",
        "Nome: {dados['nome']}\n",
        "Objetivo: {dados['objetivo']}\n",
        "Ideia: {dados['ideia']}\n",
        "Experiência: {dados['experiencia']}\n",
        "Preocupação principal: {dados['duvida']}\n",
        "\n",
        "🚀 TENDÊNCIAS RECOMENDADAS:\n",
        "{resultado_agente1}\n",
        "\n",
        "📊 ANÁLISE DE VIABILIDADE:\n",
        "{resultado_agente2}\n",
        "\n",
        "📝 PLANO DE AÇÃO:\n",
        "{plano_texto}\n",
        "\n",
        "📚 RECURSOS ÚTEIS:\n",
        "{resultado_agente4}\n",
        "\"\"\"\n",
        "        # Salva o arquivo\n",
        "        with open(caminho, \"w\", encoding=\"utf-8\") as f:\n",
        "            f.write(conteudo)\n",
        "\n",
        "        # Opção 1: Link direto para notebooks\n",
        "        try:\n",
        "            display(FileLink(caminho))\n",
        "            print(\"⬇️ Clique no link acima para baixar (Jupyter/Colab)\")\n",
        "        except:\n",
        "            pass\n",
        "\n",
        "        # Opção 2: Botão HTML para outros ambientes\n",
        "        with open(caminho, \"rb\") as f:\n",
        "            b64 = base64.b64encode(f.read()).decode()\n",
        "\n",
        "        display(HTML(f\"\"\"\n",
        "        <div style=\"margin:20px; padding:15px; border:1px solid #ddd; border-radius:5px;\">\n",
        "            <h3 style=\"color:#2c3e50;\">Seu plano está pronto!</h3>\n",
        "            <a href=\"data:file/txt;base64,{b64}\" download=\"{nome_arquivo}\"\n",
        "               style=\"background:#3498db; color:white; padding:10px 15px;\n",
        "               text-decoration:none; border-radius:4px; display:inline-block;\">\n",
        "               📥 Baixar Plano Completo\n",
        "            </a>\n",
        "            <p style=\"font-size:12px; margin-top:8px;\">Arquivo: {nome_arquivo}</p>\n",
        "        </div>\n",
        "        \"\"\"))\n",
        "\n",
        "        # Opção 3: Caminho manual\n",
        "        print(f\"\\n📍 Arquivo salvo em: {os.path.abspath(caminho)}\")\n",
        "\n",
        "        return caminho\n",
        "\n",
        "    except Exception as e:\n",
        "        print(f\"⚠️ Erro ao gerar arquivo: {str(e)}\")\n",
        "        return None\n",
        "\n",
        "# Execução principal\n",
        "print(\"\\n⏳ Gerando seu plano completo...\")\n",
        "arquivo = gerar_arquivo_download()\n",
        "\n",
        "if arquivo:\n",
        "    print(f\"\\n{'='*100}\")\n",
        "    print(\"✅ PRONTO! Seu plano de negócios foi criado com sucesso!\")\n",
        "    print(\"💡 Dicas:\")\n",
        "    print(\"1. Revise cada seção\")\n",
        "    print(\"2. Escolha 3 ações para começar esta semana\")\n",
        "    print(\"3. Compartilhe com alguém de confiança\")\n",
        "    print(f\"\\n✨ Você deu o primeiro passo! Agora é hora de ação ✨\")\n",
        "    print(f\"{'='*100}\")\n",
        "else:\n",
        "    print(\"\\nOcorreu um erro. Por favor, tente novamente.\")"
      ],
      "metadata": {
        "colab": {
          "base_uri": "https://localhost:8080/",
          "height": 798
        },
        "id": "Dit1QZwaM8ij",
        "outputId": "421a6e41-72ef-4c0d-82e2-ea6407190dda"
      },
      "execution_count": 80,
      "outputs": [
        {
          "output_type": "stream",
          "name": "stdout",
          "text": [
            "\n",
            "====================================================================================================\n",
            "OLÁ, EU SOU A ESTELA!\n",
            "Sua Assistente para Criação de Negócios\n",
            "====================================================================================================\n",
            "\n",
            "1️⃣ Qual é o seu nome? Velma\n",
            "\n",
            "2️⃣ Qual seu objetivo principal? (Criar negócio, renda extra, mudar carreira): renda extra\n",
            "\n",
            "3️⃣ Tem alguma ideia de negócio? Descreva brevemente: comidas naturais\n",
            "\n",
            "4️⃣ Sua experiência profissional/formação: em vendas\n",
            "\n",
            "5️⃣ Sua maior preocupação ao começar: custo\n",
            "\n",
            "🔍 Analisando suas informações...\n",
            "\n",
            "⏳ Gerando seu plano completo...\n"
          ]
        },
        {
          "output_type": "display_data",
          "data": {
            "text/plain": [
              "/content/Planos_Negocio/Plano_Velma_20250517.txt"
            ],
            "text/html": [
              "<a href='Planos_Negocio/Plano_Velma_20250517.txt' target='_blank'>Planos_Negocio/Plano_Velma_20250517.txt</a><br>"
            ]
          },
          "metadata": {}
        },
        {
          "output_type": "stream",
          "name": "stdout",
          "text": [
            "⬇️ Clique no link acima para baixar (Jupyter/Colab)\n"
          ]
        },
        {
          "output_type": "display_data",
          "data": {
            "text/plain": [
              "<IPython.core.display.HTML object>"
            ],
            "text/html": [
              "\n",
              "        <div style=\"margin:20px; padding:15px; border:1px solid #ddd; border-radius:5px;\">\n",
              "            <h3 style=\"color:#2c3e50;\">Seu plano está pronto!</h3>\n",
              "            <a href=\"data:file/txt;base64,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\" download=\"Plano_Velma_20250517.txt\"\n",
              "               style=\"background:#3498db; color:white; padding:10px 15px; \n",
              "               text-decoration:none; border-radius:4px; display:inline-block;\">\n",
              "               📥 Baixar Plano Completo\n",
              "            </a>\n",
              "            <p style=\"font-size:12px; margin-top:8px;\">Arquivo: Plano_Velma_20250517.txt</p>\n",
              "        </div>\n",
              "        "
            ]
          },
          "metadata": {}
        },
        {
          "output_type": "stream",
          "name": "stdout",
          "text": [
            "\n",
            "📍 Arquivo salvo em: /content/Planos_Negocio/Plano_Velma_20250517.txt\n",
            "\n",
            "====================================================================================================\n",
            "✅ PRONTO! Seu plano de negócios foi criado com sucesso!\n",
            "💡 Dicas:\n",
            "1. Revise cada seção\n",
            "2. Escolha 3 ações para começar esta semana\n",
            "3. Compartilhe com alguém de confiança\n",
            "\n",
            "✨ Você deu o primeiro passo! Agora é hora de ação ✨\n",
            "====================================================================================================\n"
          ]
        }
      ]
    }
  ]
}