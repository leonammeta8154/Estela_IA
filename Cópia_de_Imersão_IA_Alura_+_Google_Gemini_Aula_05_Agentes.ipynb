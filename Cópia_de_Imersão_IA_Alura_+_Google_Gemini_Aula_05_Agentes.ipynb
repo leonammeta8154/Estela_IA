{
  "nbformat": 4,
  "nbformat_minor": 0,
  "metadata": {
    "colab": {
      "provenance": [],
      "include_colab_link": true
    },
    "kernelspec": {
      "name": "python3",
      "display_name": "Python 3"
    },
    "language_info": {
      "name": "python"
    }
  },
  "cells": [
    {
      "cell_type": "markdown",
      "metadata": {
        "id": "view-in-github",
        "colab_type": "text"
      },
      "source": [
        "<a href=\"https://colab.research.google.com/github/leonammeta8154/Estela_IA/blob/main/C%C3%B3pia_de_Imers%C3%A3o_IA_Alura_%2B_Google_Gemini_Aula_05_Agentes.ipynb\" target=\"_parent\"><img src=\"https://colab.research.google.com/assets/colab-badge.svg\" alt=\"Open In Colab\"/></a>"
      ]
    },
    {
      "cell_type": "code",
      "source": [
        "%pip -q install google-genai"
      ],
      "metadata": {
        "id": "UCCbECexLk_h"
      },
      "execution_count": 1,
      "outputs": []
    },
    {
      "cell_type": "code",
      "source": [
        "# Configura a API Key do Google Gemini\n",
        "\n",
        "import os\n",
        "from google.colab import userdata\n",
        "\n",
        "os.environ[\"GOOGLE_API_KEY\"] = userdata.get('GOOGLE_API_KEY')"
      ],
      "metadata": {
        "id": "NfCqHo1tLk8P"
      },
      "execution_count": 2,
      "outputs": []
    },
    {
      "cell_type": "code",
      "source": [
        "# Configura o cliente da SDK do Gemini\n",
        "\n",
        "from google import genai\n",
        "\n",
        "client = genai.Client()\n",
        "\n",
        "MODEL_ID = \"gemini-2.0-flash\""
      ],
      "metadata": {
        "id": "bV4w0H5TLk5g"
      },
      "execution_count": 3,
      "outputs": []
    },
    {
      "cell_type": "code",
      "source": [
        "# Instalar Framework ADK de agentes do Google ################################################\n",
        "!pip install -q google-adk"
      ],
      "metadata": {
        "id": "hvZ3UnPI4jhJ",
        "colab": {
          "base_uri": "https://localhost:8080/"
        },
        "outputId": "92573bcf-fde2-4c7a-fa48-df15548e4a2b"
      },
      "execution_count": 4,
      "outputs": [
        {
          "output_type": "stream",
          "name": "stdout",
          "text": [
            "\u001b[?25l   \u001b[90m━━━━━━━━━━━━━━━━━━━━━━━━━━━━━━━━━━━━━━━━\u001b[0m \u001b[32m0.0/1.2 MB\u001b[0m \u001b[31m?\u001b[0m eta \u001b[36m-:--:--\u001b[0m\r\u001b[2K   \u001b[91m━━━━━━━━━━━━━━━━━━━━━━━━━━━\u001b[0m\u001b[90m╺\u001b[0m\u001b[90m━━━━━━━━━━━━\u001b[0m \u001b[32m0.8/1.2 MB\u001b[0m \u001b[31m23.8 MB/s\u001b[0m eta \u001b[36m0:00:01\u001b[0m\r\u001b[2K   \u001b[90m━━━━━━━━━━━━━━━━━━━━━━━━━━━━━━━━━━━━━━━━\u001b[0m \u001b[32m1.2/1.2 MB\u001b[0m \u001b[31m18.5 MB/s\u001b[0m eta \u001b[36m0:00:00\u001b[0m\n",
            "\u001b[?25h\u001b[?25l   \u001b[90m━━━━━━━━━━━━━━━━━━━━━━━━━━━━━━━━━━━━━━━━\u001b[0m \u001b[32m0.0/232.1 kB\u001b[0m \u001b[31m?\u001b[0m eta \u001b[36m-:--:--\u001b[0m\r\u001b[2K   \u001b[90m━━━━━━━━━━━━━━━━━━━━━━━━━━━━━━━━━━━━━━━━\u001b[0m \u001b[32m232.1/232.1 kB\u001b[0m \u001b[31m15.4 MB/s\u001b[0m eta \u001b[36m0:00:00\u001b[0m\n",
            "\u001b[?25h\u001b[?25l   \u001b[90m━━━━━━━━━━━━━━━━━━━━━━━━━━━━━━━━━━━━━━━━\u001b[0m \u001b[32m0.0/95.2 kB\u001b[0m \u001b[31m?\u001b[0m eta \u001b[36m-:--:--\u001b[0m\r\u001b[2K   \u001b[90m━━━━━━━━━━━━━━━━━━━━━━━━━━━━━━━━━━━━━━━━\u001b[0m \u001b[32m95.2/95.2 kB\u001b[0m \u001b[31m6.9 MB/s\u001b[0m eta \u001b[36m0:00:00\u001b[0m\n",
            "\u001b[2K   \u001b[90m━━━━━━━━━━━━━━━━━━━━━━━━━━━━━━━━━━━━━━━━\u001b[0m \u001b[32m217.1/217.1 kB\u001b[0m \u001b[31m14.1 MB/s\u001b[0m eta \u001b[36m0:00:00\u001b[0m\n",
            "\u001b[2K   \u001b[90m━━━━━━━━━━━━━━━━━━━━━━━━━━━━━━━━━━━━━━━━\u001b[0m \u001b[32m334.1/334.1 kB\u001b[0m \u001b[31m18.5 MB/s\u001b[0m eta \u001b[36m0:00:00\u001b[0m\n",
            "\u001b[2K   \u001b[90m━━━━━━━━━━━━━━━━━━━━━━━━━━━━━━━━━━━━━━━━\u001b[0m \u001b[32m125.1/125.1 kB\u001b[0m \u001b[31m8.2 MB/s\u001b[0m eta \u001b[36m0:00:00\u001b[0m\n",
            "\u001b[2K   \u001b[90m━━━━━━━━━━━━━━━━━━━━━━━━━━━━━━━━━━━━━━━━\u001b[0m \u001b[32m65.8/65.8 kB\u001b[0m \u001b[31m4.9 MB/s\u001b[0m eta \u001b[36m0:00:00\u001b[0m\n",
            "\u001b[2K   \u001b[90m━━━━━━━━━━━━━━━━━━━━━━━━━━━━━━━━━━━━━━━━\u001b[0m \u001b[32m119.0/119.0 kB\u001b[0m \u001b[31m8.2 MB/s\u001b[0m eta \u001b[36m0:00:00\u001b[0m\n",
            "\u001b[2K   \u001b[90m━━━━━━━━━━━━━━━━━━━━━━━━━━━━━━━━━━━━━━━━\u001b[0m \u001b[32m194.9/194.9 kB\u001b[0m \u001b[31m13.4 MB/s\u001b[0m eta \u001b[36m0:00:00\u001b[0m\n",
            "\u001b[2K   \u001b[90m━━━━━━━━━━━━━━━━━━━━━━━━━━━━━━━━━━━━━━━━\u001b[0m \u001b[32m62.5/62.5 kB\u001b[0m \u001b[31m3.9 MB/s\u001b[0m eta \u001b[36m0:00:00\u001b[0m\n",
            "\u001b[2K   \u001b[90m━━━━━━━━━━━━━━━━━━━━━━━━━━━━━━━━━━━━━━━━\u001b[0m \u001b[32m103.3/103.3 kB\u001b[0m \u001b[31m7.5 MB/s\u001b[0m eta \u001b[36m0:00:00\u001b[0m\n",
            "\u001b[2K   \u001b[90m━━━━━━━━━━━━━━━━━━━━━━━━━━━━━━━━━━━━━━━━\u001b[0m \u001b[32m44.4/44.4 kB\u001b[0m \u001b[31m3.3 MB/s\u001b[0m eta \u001b[36m0:00:00\u001b[0m\n",
            "\u001b[2K   \u001b[90m━━━━━━━━━━━━━━━━━━━━━━━━━━━━━━━━━━━━━━━━\u001b[0m \u001b[32m72.0/72.0 kB\u001b[0m \u001b[31m5.1 MB/s\u001b[0m eta \u001b[36m0:00:00\u001b[0m\n",
            "\u001b[?25h"
          ]
        }
      ]
    },
    {
      "cell_type": "code",
      "execution_count": 5,
      "metadata": {
        "id": "aePV2bdfDeoW"
      },
      "outputs": [],
      "source": [
        "from google.adk.agents import Agent\n",
        "from google.adk.runners import Runner\n",
        "from google.adk.sessions import InMemorySessionService # memoria interna desse agente.\n",
        "from google.adk.tools import google_search # ferramenta do google\n",
        "from google.genai import types  # Para criar conteúdos (Content e Part)\n",
        "from datetime import date\n",
        "import textwrap # Para formatar melhor a saída de texto\n",
        "from IPython.display import display, Markdown # Para exibir texto formatado no Colab\n",
        "import requests # Para fazer requisições HTTP\n",
        "import warnings\n",
        "\n",
        "warnings.filterwarnings(\"ignore\")"
      ]
    },
    {
      "cell_type": "code",
      "source": [
        "def call_agent(agent: Agent, message_text: str) -> str:\n",
        "    session_service = InMemorySessionService()\n",
        "    session = session_service.create_session(app_name=agent.name, user_id=\"user1\", session_id=\"session1\")\n",
        "    runner = Runner(agent=agent, app_name=agent.name, session_service=session_service)\n",
        "    content = types.Content(role=\"user\", parts=[types.Part(text=message_text)])\n",
        "\n",
        "    final_response = \"\"\n",
        "    for event in runner.run(user_id=\"user1\", session_id=\"session1\", new_message=content):\n",
        "        if event.is_final_response():\n",
        "          for part in event.content.parts:\n",
        "            if part.text is not None:\n",
        "              final_response += part.text\n",
        "              final_response += \"\\n\"\n",
        "    return final_response"
      ],
      "metadata": {
        "id": "_xP4lWhsS5ko"
      },
      "execution_count": 6,
      "outputs": []
    },
    {
      "cell_type": "code",
      "source": [
        "# Função auxiliar para exibir texto formatado em Markdown no Colab\n",
        "def to_markdown(text):\n",
        "  text = text.replace('•', '  *')\n",
        "  return Markdown(textwrap.indent(text, '> ', predicate=lambda _: True))"
      ],
      "metadata": {
        "id": "8dosiodaxfFR"
      },
      "execution_count": 7,
      "outputs": []
    },
    {
      "cell_type": "code",
      "source": [
        "##########################################\n",
        "# --- Agente 1: Buscador de Notícias --- #\n",
        "##########################################\n",
        "\n",
        "def agente_buscador(topico, data_de_hoje):\n",
        "  buscador = Agent(\n",
        "      name =\"agente_buscador\",\n",
        "      model=\"gemini-2.0-flash\",\n",
        "      description=\"agente de buscar informações no google\",\n",
        "      tools=[google_search],\n",
        "      instruction=\"\"\"\n",
        "      Você é um assistente de pesquisa. A sua tarefa é usar a ferramenta de busca do (google_search) para recuperar as últimas notícias de lançamentos muito relevantes sobre o tópico abaixo.\n",
        "      Foque em no máximo 5 lançamentos relevantes, com base na quantidade e entusiasmo das notícias sobre ele.\n",
        "      Se um tema tiver poucas notícias ou reações entusiasmadas, é posspivel que ele não seja tão relevante aasim\n",
        "      esse lançamenbto relevantes devem ser atuais, de no máximo um mês antes da data de hoje.\n",
        "      \"\"\"\n",
        "  )\n",
        "\n",
        "  entrada_do_agente_buscador = f\"Tópico: {topico}\\nData de hoje: {data_de_hoje}\"\n",
        "  # Executa o agente\n",
        "  lancamentos_buscados = call_agent(buscador, entrada_do_agente_buscador)\n",
        "  return lancamentos_buscados"
      ],
      "metadata": {
        "id": "o8bqIfi_DyH8"
      },
      "execution_count": 8,
      "outputs": []
    },
    {
      "cell_type": "code",
      "source": [
        "################################################\n",
        "# --- Agente 2: Planejador de posts --- #\n",
        "################################################\n",
        "def agente_planejador(topico, lancamentos_buscados):\n",
        "    planejador = Agent(\n",
        "        name=\"agente_planejador\",\n",
        "        model=\"gemini-2.0-flash\",\n",
        "        # Inserir as instruções do Agente Planejador #################################################\n",
        "        instruction=\"\"\"\n",
        "\n",
        "        Você é um planejador de conteúdo, especialista em redes sociais. Com base na lista de lanlamentos mais recentes e revelantes buscador, você deve:\n",
        "        usar a ferramenta de busca do google (google_search) para criar um plano sobre quais são os pontos mais relevantes que poderíamos abordar em um post sobre cada um deles. Você também pode usar o (google_search) para encontrar mais\n",
        "        informações sobre os temas e aprofundar.\n",
        "        Ao final, você irá escolher o tema mais relevante entre eles com base nas suas pesquisas e retornar esse tema, seus pontos mais relevantes, e um plano com os asuntos\n",
        "        a serem abordados no post que será escrito posteriormente.\n",
        "        \"\"\",\n",
        "        description=\"Agente que planeja posts\",\n",
        "        tools=[google_search]\n",
        "    )\n",
        "\n",
        "    entrada_do_agente_planejador = f\"Tópico:{topico}\\nLançamentos buscados: {lancamentos_buscados}\"\n",
        "    # Executa o agente\n",
        "    plano_do_post = call_agent(planejador, entrada_do_agente_planejador)\n",
        "    return plano_do_post"
      ],
      "metadata": {
        "id": "y3VO1uo5_ghO"
      },
      "execution_count": 9,
      "outputs": []
    },
    {
      "cell_type": "code",
      "source": [
        "######################################\n",
        "# --- Agente 3: Redator do Post --- #\n",
        "######################################\n",
        "def agente_redator(topico, plano_de_post):\n",
        "    redator = Agent(\n",
        "        name=\"agente_redator\",\n",
        "        model=\"gemini-2.0-flash\",\n",
        "        instruction=\"\"\"\n",
        "            Você é um Redator Criativo especializado em criar posts virais para redes sociais.\n",
        "            Você escreve posts para a empresa Alura, a maior escola online de tecnologia do Brasil.\n",
        "            Utilize o tema fornecido no plano de post e os pontos mais relevantes fornecidos e, com base nisso,\n",
        "            escreva um rascunho de post para Instagram sobre o tema indicado.\n",
        "            O post deve ser engajador, informativo, com linguagem simples e incluir 2 a 4 hashtags no final.\n",
        "            \"\"\",\n",
        "        description=\"Agente redator de posts engajadores para Instagram\"\n",
        "    )\n",
        "    entrada_do_agente_redator = f\"Tópico: {topico}\\nPlano de post: {plano_de_post}\"\n",
        "    # Executa o agente\n",
        "    rascunho = call_agent(redator, entrada_do_agente_redator)\n",
        "    return rascunho"
      ],
      "metadata": {
        "id": "uOqlg2TRLVh1"
      },
      "execution_count": 10,
      "outputs": []
    },
    {
      "cell_type": "code",
      "source": [
        "##########################################\n",
        "# --- Agente 4: Revisor de Qualidade --- #\n",
        "##########################################\n",
        "def agente_revisor(topico, rascunho_gerado):\n",
        "    revisor = Agent(\n",
        "        name=\"agente_revisor\",\n",
        "        model=\"gemini-2.0-flash\",\n",
        "        instruction=\"\"\"\n",
        "            Você é um Editor e Revisor de Conteúdo meticuloso, especializado em posts para redes sociais, com foco no Instagram.\n",
        "            Por ter um público jovem, entre 18 e 30 anos, use um tom de escrita adequado.\n",
        "            Revise o rascunho de post de Instagram abaixo sobre o tópico indicado, verificando clareza, concisão, correção e tom.\n",
        "            Se o rascunho estiver bom, responda apenas 'O rascunho está ótimo e pronto para publicar!'.\n",
        "            Caso haja problemas, aponte-os e sugira melhorias.\n",
        "            \"\"\",\n",
        "        description=\"Agente revisor de post para redes sociais.\"\n",
        "    )\n",
        "    entrada_do_agente_revisor = f\"Tópico: {topico}\\nRascunho: {rascunho_gerado}\"\n",
        "    # Executa o agente\n",
        "    texto_revisado = call_agent(revisor, entrada_do_agente_revisor)\n",
        "    return texto_revisado"
      ],
      "metadata": {
        "id": "_aTb1SdkLeT6"
      },
      "execution_count": 11,
      "outputs": []
    },
    {
      "cell_type": "code",
      "source": [
        "data_de_hoje = date.today().strftime(\"%d/%m/%Y\")\n",
        "\n",
        "print(\"🚀 Iniciando o Sistema de Criação de Posts para Instagram com 4 Agentes 🚀\")\n",
        "\n",
        "# --- Obter o Tópico do Usuário ---\n",
        "topico = input(\"❓ Por favor, digite o TÓPICO sobre o qual você quer criar o post de tendências: \")\n",
        "\n",
        "# Inserir lógica do sistema de agentes ################################################\n",
        "if not topico:\n",
        "    print(\"Você esqueceu de digitar o tópico!\")\n",
        "else:\n",
        "    print(f\"Maravilha! Vamos então criar o post sobre novidades em {topico}\")\n",
        "\n",
        "    lancamentos_buscados = agente_buscador(topico, data_de_hoje)\n",
        "    print(\"\\n--- 📝 Resultado do Agente 1 (Buscador) ---\\n\")\n",
        "    display(to_markdown(lancamentos_buscados))\n",
        "    print(\"--------------------------------------------------------------\")\n",
        "\n",
        "    plano_de_post = agente_planejador(topico, lancamentos_buscados)\n",
        "    print(\"\\n--- 📝 Resultado do Agente 2 (Planejador) ---\\n\")\n",
        "    display(to_markdown(plano_de_post))\n",
        "    print(\"--------------------------------------------------------------\")\n",
        "\n",
        "    rascunho_de_post = agente_redator(topico, plano_de_post)\n",
        "    print(\"\\n--- 📝 Resultado do Agente 3 (Redator) ---\\n\")\n",
        "    display(to_markdown(rascunho_de_post))\n",
        "    print(\"--------------------------------------------------------------\")\n",
        "\n",
        "    post_final = agente_revisor(topico, rascunho_de_post)\n",
        "    print(\"\\n--- 📝 Resultado do Agente 4 (Revisor) ---\\n\")\n",
        "    display(to_markdown(post_final))\n",
        "    print(\"--------------------------------------------------------------\")"
      ],
      "metadata": {
        "id": "630ummxz4myx",
        "colab": {
          "base_uri": "https://localhost:8080/",
          "height": 1000
        },
        "outputId": "9f89337e-b3c3-44ce-a44b-37cd926b54ae"
      },
      "execution_count": 12,
      "outputs": [
        {
          "output_type": "stream",
          "name": "stdout",
          "text": [
            "🚀 Iniciando o Sistema de Criação de Posts para Instagram com 4 Agentes 🚀\n",
            "❓ Por favor, digite o TÓPICO sobre o qual você quer criar o post de tendências: academia\n",
            "Maravilha! Vamos então criar o post sobre novidades em academia\n",
            "\n",
            "--- 📝 Resultado do Agente 1 (Buscador) ---\n",
            "\n"
          ]
        },
        {
          "output_type": "display_data",
          "data": {
            "text/plain": [
              "<IPython.core.display.Markdown object>"
            ],
            "text/markdown": "> Para encontrar os lançamentos mais recentes e relevantes no mundo da academia, focarei em notícias e novidades dos últimos 30 dias que geraram entusiasmo e cobertura significativa. Aqui estão as perguntas que usarei para guiar minha pesquisa:\n> \n> 1.  Quais são os lançamentos de equipamentos de ginástica mais recentes e comentados?\n> 2.  Quais são os novos aplicativos ou softwares de fitness que estão ganhando popularidade?\n> 3.  Existem novas modalidades de treino ou programas de fitness que estão em alta?\n> 4.  Quais são as últimas tendências em nutrição esportiva e suplementos?\n> \n> \n> Com base nas minhas buscas, aqui estão alguns dos lançamentos e tendências mais relevantes no mundo da academia para 2025:\n> \n> **Equipamentos e Tecnologias:**\n> \n> *   **Equipamentos fitness com foco em sustentabilidade:** Há uma crescente demanda por equipamentos feitos com materiais recicláveis e processos de produção que reduzem o impacto ambiental.\n> *   **Integração de tecnologia:** Academias estão investindo em soluções como telas interativas que mostram o desempenho em tempo real e equipamentos que se ajustam automaticamente.\n> *   **Tecnologia vestível:** Dispositivos como smartwatches e sensores de performance fornecem informações valiosas para treinos personalizados, como zonas de frequência cardíaca e níveis de recuperação.\n> \n> **Aplicativos e Softwares:**\n> \n> *   **Aplicativos de exercícios:** Estão em alta, oferecendo treinos flexíveis, adaptáveis e personalizáveis. Em 2023, mais de 370 milhões de usuários utilizaram aplicativos fitness, e esse número tende a crescer.\n> *   **GymRats:** Um novo aplicativo que promove a criação de desafios, a socialização e o senso de comunidade entre os praticantes de atividades físicas.\n> *   **Google Fit:** Um aplicativo gratuito com atualizações frequentes e recursos excelentes para usuários de smartwatches Wear OS.\n> \n> **Modalidades de Treino e Programas de Fitness:**\n> \n> *   **Treinamento funcional personalizado:** Adaptação dos exercícios às necessidades individuais de cada pessoa, levando em conta fatores como idade, nível de condicionamento e objetivos específicos.\n> *   **HIIT (Treino Intervalado de Alta Intensidade):** Continua popular, com novidades como a incorporação de elementos de mobilidade e recuperação ativa entre os intervalos de alta intensidade.\n> *   **Treinamento em grupos pequenos:** Proporciona acompanhamento personalizado e incentivo coletivo, criando um senso de comunidade.\n> *   **Treinos híbridos e funcionais:** Combinação de treinos de força com trabalho cardiovascular.\n> *    **Programas de condicionamento físico para idosos:** Serviços fundamentais para a manutenção da saúde, prevenção de lesões e doenças crônicas, além de garantir uma rotina independente.\n> *   **Treinamento de força tradicional:** Envolve o uso de equipamentos como barras, halteres e kettlebells.\n> \n> **Nutrição Esportiva e Suplementos:**\n> \n> *   **Nutrição personalizada:** Planos alimentares personalizados com base nas necessidades alimentares específicas, níveis de atividade e objetivos de saúde de cada indivíduo.\n> *   **Nutrição esportiva baseada no veganismo:** Proteínas em pó, barras energéticas e suplementos de recuperação à base de plantas estão ganhando força.\n> *   **Alimentação plant-based com mais funcionalidade:** Foco em alimentos funcionais que contribuam para melhorar a imunidade, a digestão e a saúde mental.\n> *   **Suplementação personalizada:** Suplementos customizados com base no perfil genético e metabólico de cada indivíduo.\n> *   **O papel do intestino na performance esportiva:** Dietas que equilibrem a microbiota intestinal, melhorando a digestão e a absorção de nutrientes.\n> \n> Espero que esta informação seja útil!\n> \n"
          },
          "metadata": {}
        },
        {
          "output_type": "stream",
          "name": "stdout",
          "text": [
            "--------------------------------------------------------------\n",
            "\n",
            "--- 📝 Resultado do Agente 2 (Planejador) ---\n",
            "\n"
          ]
        },
        {
          "output_type": "display_data",
          "data": {
            "text/plain": [
              "<IPython.core.display.Markdown object>"
            ],
            "text/markdown": "> Com certeza! Com base nos lançamentos e tendências que você pesquisou, podemos criar um plano de conteúdo interessante e relevante para um post sobre o mundo da academia em 2025.\n> \n> **Tema Mais Relevante:** Integração de tecnologia, treinos personalizados e sustentabilidade no mundo fitness.\n> \n> **Pontos Relevantes:**\n> \n> *   **Equipamentos Sustentáveis:** Materiais recicláveis, menor impacto ambiental.\n> *   **Tecnologia Integrada:** Telas interativas, ajustes automáticos.\n> *   **Wearables:** Smartwatches e sensores para dados precisos.\n> *   **Aplicativos:** Personalização, desafios, comunidade (GymRats, Google Fit).\n> *   **Treino Personalizado:** Adaptação individual (idade, nível, objetivos).\n> *   **HIIT:** Novidades com mobilidade e recuperação.\n> *   **Pequenos Grupos:** Acompanhamento e incentivo.\n> *   **Treinos Híbridos:** Força e cardio combinados.\n> *   **Idosos:** Saúde, prevenção, independência.\n> *   **Força Tradicional:** Barras, halteres, kettlebells.\n> *   **Nutrição Personalizada:** Planos específicos.\n> *   **Veganismo:** Proteínas e suplementos vegetais.\n> *   **Plant-Based Funcional:** Imunidade, digestão, saúde mental.\n> *   **Suplementação Personalizada:** Genética e metabolismo.\n> *   **Intestino:** Microbiota e performance.\n> \n> **Plano de Conteúdo para o Post:**\n> \n> 1.  **Título:** \"Revolução Fitness 2025: Tecnologia, Personalização e Sustentabilidade na Sua Academia\"\n> 2.  **Introdução:**\n>     *   Visão geral das tendências fitness em 2025.\n>     *   Ênfase na tecnologia, personalização e sustentabilidade como pilares.\n> 3.  **Equipamentos e Tecnologia:**\n>     *   Equipamentos sustentáveis e seus benefícios.\n>     *   Integração de telas interativas e ajustes automáticos.\n>     *   Como wearables otimizam o treino (smartwatches, sensores).\n> 4.  **Aplicativos e Softwares:**\n>     *   Crescimento dos aplicativos fitness (estatísticas).\n>     *   Destaque para GymRats (desafios, comunidade) e Google Fit (recursos).\n> 5.  **Modalidades de Treino:**\n>     *   Treinamento funcional personalizado: importância e exemplos.\n>     *   Novidades no HIIT (mobilidade e recuperação).\n>     *   Benefícios dos treinos em pequenos grupos.\n>     *   Treinos híbridos e funcionais para resultados completos.\n>     *   Programas específicos para idosos (saúde e independência).\n>     *   A importância do treinamento de força tradicional.\n> 6.  **Nutrição Esportiva:**\n>     *   Nutrição personalizada: como montar um plano.\n>     *   Veganismo e alimentos plant-based na nutrição esportiva.\n>     *   Suplementação personalizada com base em genética e metabolismo.\n>     *   O papel da saúde intestinal na performance esportiva.\n> 7.  **Conclusão:**\n>     *   Recapitulação das tendências.\n>     *   Encorajamento para experimentar as novidades.\n>     *   Convite para interação nos comentários.\n> \n> Com este plano, você poderá criar um post informativo, interessante e relevante sobre o mundo da academia em 2025, abordando as tendências mais quentes e como elas podem beneficiar os praticantes de atividades físicas.\n> \n"
          },
          "metadata": {}
        },
        {
          "output_type": "stream",
          "name": "stdout",
          "text": [
            "--------------------------------------------------------------\n",
            "\n",
            "--- 📝 Resultado do Agente 3 (Redator) ---\n",
            "\n"
          ]
        },
        {
          "output_type": "display_data",
          "data": {
            "text/plain": [
              "<IPython.core.display.Markdown object>"
            ],
            "text/markdown": "> 🏋️‍♀️ O futuro fitness chegou e ele é TECNOLÓGICO, PERSONALIZADO e SUSTENTÁVEL! 🚀\n> \n> Prepare-se para a revolução fitness 2025! 🤯 As academias estão se transformando com equipamentos eco-friendly, cheios de tecnologia e treinos feitos sob medida pra VOCÊ!\n> \n> 🔋 **Equipamentos do futuro:** Já pensou em treinar em aparelhos feitos com materiais reciclados e com telas que te guiam em tempo real? A pegada sustentável chegou com tudo!\n> \n> 📱 **Apps bombando:** Esqueça as planilhas! Com o GymRats e Google Fit, você tem desafios, comunidades e dados precisos na palma da mão. 📈\n> \n> 💪 **Treino do seu jeito:** Chega de treinar igual todo mundo! A personalização é a chave: idade, nível, objetivos… tudo pensado pra você! E não para por aí: HIIT com foco em mobilidade, treinos em grupo e até programas especiais para nossos #AluraLovers +60! ✨\n> \n> 🌱 **Nutrição turbinada:** Vegano? Plant-based? Intestino feliz? A nutrição esportiva está cada vez mais personalizada e focada em performance e bem-estar! 🥗\n> \n> E aí, #AluraFit, preparado(a) para essa nova era? 😎 Conta pra gente nos comentários qual dessas tendências te anima mais! 👇\n> \n> #Fitness2025 #TecnologiaNoEsporte #SustentabilidadeFitness\n> \n"
          },
          "metadata": {}
        },
        {
          "output_type": "stream",
          "name": "stdout",
          "text": [
            "--------------------------------------------------------------\n",
            "\n",
            "--- 📝 Resultado do Agente 4 (Revisor) ---\n",
            "\n"
          ]
        },
        {
          "output_type": "display_data",
          "data": {
            "text/plain": [
              "<IPython.core.display.Markdown object>"
            ],
            "text/markdown": "> O rascunho está ótimo e pronto para publicar!\n"
          },
          "metadata": {}
        },
        {
          "output_type": "stream",
          "name": "stdout",
          "text": [
            "--------------------------------------------------------------\n"
          ]
        }
      ]
    }
  ]
}