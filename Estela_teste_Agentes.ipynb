{
  "nbformat": 4,
  "nbformat_minor": 0,
  "metadata": {
    "colab": {
      "provenance": [],
      "include_colab_link": true
    },
    "kernelspec": {
      "name": "python3",
      "display_name": "Python 3"
    },
    "language_info": {
      "name": "python"
    }
  },
  "cells": [
    {
      "cell_type": "markdown",
      "metadata": {
        "id": "view-in-github",
        "colab_type": "text"
      },
      "source": [
        "<a href=\"https://colab.research.google.com/github/leonammeta8154/Estela_IA/blob/main/Estela_teste_Agentes.ipynb\" target=\"_parent\"><img src=\"https://colab.research.google.com/assets/colab-badge.svg\" alt=\"Open In Colab\"/></a>"
      ]
    },
    {
      "cell_type": "code",
      "source": [
        "%pip -q install google-genai"
      ],
      "metadata": {
        "id": "UCCbECexLk_h"
      },
      "execution_count": 1,
      "outputs": []
    },
    {
      "cell_type": "code",
      "source": [
        "# Configura a API Key do Google Gemini\n",
        "\n",
        "import os\n",
        "from google.colab import userdata\n",
        "\n",
        "os.environ[\"GOOGLE_API_KEY\"] = userdata.get('GOOGLE_API_KEY')"
      ],
      "metadata": {
        "id": "NfCqHo1tLk8P"
      },
      "execution_count": 2,
      "outputs": []
    },
    {
      "cell_type": "code",
      "source": [
        "# Configura o cliente da SDK do Gemini\n",
        "\n",
        "from google import genai\n",
        "\n",
        "client = genai.Client()\n",
        "\n",
        "MODEL_ID = \"gemini-2.0-flash\""
      ],
      "metadata": {
        "id": "bV4w0H5TLk5g"
      },
      "execution_count": 3,
      "outputs": []
    },
    {
      "cell_type": "code",
      "source": [
        "# Pergunta ao Gemini uma informação mais recente que seu conhecimento\n",
        "\n",
        "from IPython.display import HTML, Markdown\n",
        "\n",
        "# Perguntar pro modelo quando é a próxima imersão de IA ###############################################\n",
        "resposta = client.models.generate_content(\n",
        "    model=MODEL_ID,\n",
        "    contents='Quando é a próxima Imersão IA com Google Gemini da Alura?',\n",
        ")\n",
        "\n",
        "# Exibe a resposta na tela\n",
        "display(Markdown(f\"Resposta:\\n {resposta.text}\"))"
      ],
      "metadata": {
        "id": "HwVP7Xi34Zuw",
        "colab": {
          "base_uri": "https://localhost:8080/",
          "height": 157
        },
        "outputId": "a26da153-6446-41a5-95d8-bdf0a8029cab"
      },
      "execution_count": 4,
      "outputs": [
        {
          "output_type": "display_data",
          "data": {
            "text/plain": [
              "<IPython.core.display.Markdown object>"
            ],
            "text/markdown": "Resposta:\n Para saber a data da próxima Imersão IA com Google Gemini da Alura, o melhor é verificar diretamente no site da Alura:\n\n*   **Site da Alura:** Procure na página de cursos ou na seção de imersões e bootcamps. Eles costumam anunciar as próximas datas por lá.\n\nAlém disso, você pode:\n\n*   **Seguir a Alura nas redes sociais:** Eles costumam divulgar as novidades por lá.\n*   **Assinar a newsletter da Alura:** Assim, você recebe as informações diretamente no seu e-mail.\n\nAssim que tiver informações mais concretas, posso te ajudar!"
          },
          "metadata": {}
        }
      ]
    },
    {
      "cell_type": "code",
      "source": [
        "# Pergunta ao Gemini uma informação utilizando a busca do Google como contexto\n",
        "\n",
        "response = client.models.generate_content(\n",
        "    model=MODEL_ID,\n",
        "    contents='Quando é a próxima Imersão IA com Google Gemini da Alura?',\n",
        "    config={\"tools\": [{\"google_search\": {}}]}\n",
        ")\n",
        "\n",
        "# Exibe a resposta na tela\n",
        "display(Markdown(f\"Resposta:\\n {response.text}\"))"
      ],
      "metadata": {
        "id": "yXaZd7iZ4ftw",
        "colab": {
          "base_uri": "https://localhost:8080/",
          "height": 46
        },
        "outputId": "d9dd62d9-1f0c-42eb-de51-7bbe978a7601"
      },
      "execution_count": 5,
      "outputs": [
        {
          "output_type": "display_data",
          "data": {
            "text/plain": [
              "<IPython.core.display.Markdown object>"
            ],
            "text/markdown": "Resposta:\n A próxima Imersão IA com Google Gemini da Alura aconteceu de 12 a 16 de maio de 2025. As inscrições encerraram no dia 11 de maio de 2025.\n"
          },
          "metadata": {}
        }
      ]
    },
    {
      "cell_type": "code",
      "source": [
        "# Exibe a busca\n",
        "print(f\"Busca realizada: {response.candidates[0].grounding_metadata.web_search_queries}\")\n",
        "# Exibe as URLs nas quais ele se baseou\n",
        "print(f\"Páginas utilizadas na resposta: {', '.join([site.web.title for site in response.candidates[0].grounding_metadata.grounding_chunks])}\")\n",
        "print()\n",
        "display(HTML(response.candidates[0].grounding_metadata.search_entry_point.rendered_content))"
      ],
      "metadata": {
        "id": "xHSNlTd84heJ",
        "colab": {
          "base_uri": "https://localhost:8080/",
          "height": 117
        },
        "outputId": "27da254d-93e2-4b4d-bd92-3c9e3e023286"
      },
      "execution_count": 6,
      "outputs": [
        {
          "output_type": "stream",
          "name": "stdout",
          "text": [
            "Busca realizada: ['Alura Imersão IA com Google Gemini próxima edição']\n",
            "Páginas utilizadas na resposta: thallesbenicio.com.br, alemdoclicktech.com.br\n",
            "\n"
          ]
        },
        {
          "output_type": "display_data",
          "data": {
            "text/plain": [
              "<IPython.core.display.HTML object>"
            ],
            "text/html": [
              "<style>\n",
              ".container {\n",
              "  align-items: center;\n",
              "  border-radius: 8px;\n",
              "  display: flex;\n",
              "  font-family: Google Sans, Roboto, sans-serif;\n",
              "  font-size: 14px;\n",
              "  line-height: 20px;\n",
              "  padding: 8px 12px;\n",
              "}\n",
              ".chip {\n",
              "  display: inline-block;\n",
              "  border: solid 1px;\n",
              "  border-radius: 16px;\n",
              "  min-width: 14px;\n",
              "  padding: 5px 16px;\n",
              "  text-align: center;\n",
              "  user-select: none;\n",
              "  margin: 0 8px;\n",
              "  -webkit-tap-highlight-color: transparent;\n",
              "}\n",
              ".carousel {\n",
              "  overflow: auto;\n",
              "  scrollbar-width: none;\n",
              "  white-space: nowrap;\n",
              "  margin-right: -12px;\n",
              "}\n",
              ".headline {\n",
              "  display: flex;\n",
              "  margin-right: 4px;\n",
              "}\n",
              ".gradient-container {\n",
              "  position: relative;\n",
              "}\n",
              ".gradient {\n",
              "  position: absolute;\n",
              "  transform: translate(3px, -9px);\n",
              "  height: 36px;\n",
              "  width: 9px;\n",
              "}\n",
              "@media (prefers-color-scheme: light) {\n",
              "  .container {\n",
              "    background-color: #fafafa;\n",
              "    box-shadow: 0 0 0 1px #0000000f;\n",
              "  }\n",
              "  .headline-label {\n",
              "    color: #1f1f1f;\n",
              "  }\n",
              "  .chip {\n",
              "    background-color: #ffffff;\n",
              "    border-color: #d2d2d2;\n",
              "    color: #5e5e5e;\n",
              "    text-decoration: none;\n",
              "  }\n",
              "  .chip:hover {\n",
              "    background-color: #f2f2f2;\n",
              "  }\n",
              "  .chip:focus {\n",
              "    background-color: #f2f2f2;\n",
              "  }\n",
              "  .chip:active {\n",
              "    background-color: #d8d8d8;\n",
              "    border-color: #b6b6b6;\n",
              "  }\n",
              "  .logo-dark {\n",
              "    display: none;\n",
              "  }\n",
              "  .gradient {\n",
              "    background: linear-gradient(90deg, #fafafa 15%, #fafafa00 100%);\n",
              "  }\n",
              "}\n",
              "@media (prefers-color-scheme: dark) {\n",
              "  .container {\n",
              "    background-color: #1f1f1f;\n",
              "    box-shadow: 0 0 0 1px #ffffff26;\n",
              "  }\n",
              "  .headline-label {\n",
              "    color: #fff;\n",
              "  }\n",
              "  .chip {\n",
              "    background-color: #2c2c2c;\n",
              "    border-color: #3c4043;\n",
              "    color: #fff;\n",
              "    text-decoration: none;\n",
              "  }\n",
              "  .chip:hover {\n",
              "    background-color: #353536;\n",
              "  }\n",
              "  .chip:focus {\n",
              "    background-color: #353536;\n",
              "  }\n",
              "  .chip:active {\n",
              "    background-color: #464849;\n",
              "    border-color: #53575b;\n",
              "  }\n",
              "  .logo-light {\n",
              "    display: none;\n",
              "  }\n",
              "  .gradient {\n",
              "    background: linear-gradient(90deg, #1f1f1f 15%, #1f1f1f00 100%);\n",
              "  }\n",
              "}\n",
              "</style>\n",
              "<div class=\"container\">\n",
              "  <div class=\"headline\">\n",
              "    <svg class=\"logo-light\" width=\"18\" height=\"18\" viewBox=\"9 9 35 35\" fill=\"none\" xmlns=\"http://www.w3.org/2000/svg\">\n",
              "      <path fill-rule=\"evenodd\" clip-rule=\"evenodd\" d=\"M42.8622 27.0064C42.8622 25.7839 42.7525 24.6084 42.5487 23.4799H26.3109V30.1568H35.5897C35.1821 32.3041 33.9596 34.1222 32.1258 35.3448V39.6864H37.7213C40.9814 36.677 42.8622 32.2571 42.8622 27.0064V27.0064Z\" fill=\"#4285F4\"/>\n",
              "      <path fill-rule=\"evenodd\" clip-rule=\"evenodd\" d=\"M26.3109 43.8555C30.9659 43.8555 34.8687 42.3195 37.7213 39.6863L32.1258 35.3447C30.5898 36.3792 28.6306 37.0061 26.3109 37.0061C21.8282 37.0061 18.0195 33.9811 16.6559 29.906H10.9194V34.3573C13.7563 39.9841 19.5712 43.8555 26.3109 43.8555V43.8555Z\" fill=\"#34A853\"/>\n",
              "      <path fill-rule=\"evenodd\" clip-rule=\"evenodd\" d=\"M16.6559 29.8904C16.3111 28.8559 16.1074 27.7588 16.1074 26.6146C16.1074 25.4704 16.3111 24.3733 16.6559 23.3388V18.8875H10.9194C9.74388 21.2072 9.06992 23.8247 9.06992 26.6146C9.06992 29.4045 9.74388 32.022 10.9194 34.3417L15.3864 30.8621L16.6559 29.8904V29.8904Z\" fill=\"#FBBC05\"/>\n",
              "      <path fill-rule=\"evenodd\" clip-rule=\"evenodd\" d=\"M26.3109 16.2386C28.85 16.2386 31.107 17.1164 32.9095 18.8091L37.8466 13.8719C34.853 11.082 30.9659 9.3736 26.3109 9.3736C19.5712 9.3736 13.7563 13.245 10.9194 18.8875L16.6559 23.3388C18.0195 19.2636 21.8282 16.2386 26.3109 16.2386V16.2386Z\" fill=\"#EA4335\"/>\n",
              "    </svg>\n",
              "    <svg class=\"logo-dark\" width=\"18\" height=\"18\" viewBox=\"0 0 48 48\" xmlns=\"http://www.w3.org/2000/svg\">\n",
              "      <circle cx=\"24\" cy=\"23\" fill=\"#FFF\" r=\"22\"/>\n",
              "      <path d=\"M33.76 34.26c2.75-2.56 4.49-6.37 4.49-11.26 0-.89-.08-1.84-.29-3H24.01v5.99h8.03c-.4 2.02-1.5 3.56-3.07 4.56v.75l3.91 2.97h.88z\" fill=\"#4285F4\"/>\n",
              "      <path d=\"M15.58 25.77A8.845 8.845 0 0 0 24 31.86c1.92 0 3.62-.46 4.97-1.31l4.79 3.71C31.14 36.7 27.65 38 24 38c-5.93 0-11.01-3.4-13.45-8.36l.17-1.01 4.06-2.85h.8z\" fill=\"#34A853\"/>\n",
              "      <path d=\"M15.59 20.21a8.864 8.864 0 0 0 0 5.58l-5.03 3.86c-.98-2-1.53-4.25-1.53-6.64 0-2.39.55-4.64 1.53-6.64l1-.22 3.81 2.98.22 1.08z\" fill=\"#FBBC05\"/>\n",
              "      <path d=\"M24 14.14c2.11 0 4.02.75 5.52 1.98l4.36-4.36C31.22 9.43 27.81 8 24 8c-5.93 0-11.01 3.4-13.45 8.36l5.03 3.85A8.86 8.86 0 0 1 24 14.14z\" fill=\"#EA4335\"/>\n",
              "    </svg>\n",
              "    <div class=\"gradient-container\"><div class=\"gradient\"></div></div>\n",
              "  </div>\n",
              "  <div class=\"carousel\">\n",
              "    <a class=\"chip\" href=\"https://vertexaisearch.cloud.google.com/grounding-api-redirect/AbF9wXGYJqUW1qVZcxMNIoDXWWQjb--XjMSxy-P2NG6Ip_bBBmCWAeYrvnzDEkXagvaJalwm6bc3oR9FsS_T0j_hLStLszbcJQf5pTZpsbKg6nOnKBzi5aIxEqLUmZzXidEoy-IcmdVxRcmMfHOun_8NBECHAJ5OU0ekGpYr3sRWz8CH80f5jCqeZRqfYr0nblQWeG7IOMelGGqLpKXKn2qHy3wnSl4o7RtoxCyQK97xOLSyWMZvt1Lh2-6zeD4sVK8rltsm5PM9z_BznN0=\">Alura Imersão IA com Google Gemini próxima edição</a>\n",
              "  </div>\n",
              "</div>\n"
            ]
          },
          "metadata": {}
        }
      ]
    },
    {
      "cell_type": "code",
      "source": [
        "# Instalar Framework ADK de agentes do Google ################################################\n",
        "!pip install -q google-adk"
      ],
      "metadata": {
        "id": "hvZ3UnPI4jhJ",
        "colab": {
          "base_uri": "https://localhost:8080/"
        },
        "outputId": "65d781a3-693a-4b66-d5e5-e9916e25753f"
      },
      "execution_count": 7,
      "outputs": [
        {
          "output_type": "stream",
          "name": "stdout",
          "text": [
            "\u001b[?25l   \u001b[90m━━━━━━━━━━━━━━━━━━━━━━━━━━━━━━━━━━━━━━━━\u001b[0m \u001b[32m0.0/1.2 MB\u001b[0m \u001b[31m?\u001b[0m eta \u001b[36m-:--:--\u001b[0m\r\u001b[2K   \u001b[91m━━━━━━━━━━━━━━━━━━\u001b[0m\u001b[91m╸\u001b[0m\u001b[90m━━━━━━━━━━━━━━━━━━━━━\u001b[0m \u001b[32m0.6/1.2 MB\u001b[0m \u001b[31m16.7 MB/s\u001b[0m eta \u001b[36m0:00:01\u001b[0m\r\u001b[2K   \u001b[90m━━━━━━━━━━━━━━━━━━━━━━━━━━━━━━━━━━━━━━━━\u001b[0m \u001b[32m1.2/1.2 MB\u001b[0m \u001b[31m17.8 MB/s\u001b[0m eta \u001b[36m0:00:00\u001b[0m\n",
            "\u001b[?25h\u001b[?25l   \u001b[90m━━━━━━━━━━━━━━━━━━━━━━━━━━━━━━━━━━━━━━━━\u001b[0m \u001b[32m0.0/232.1 kB\u001b[0m \u001b[31m?\u001b[0m eta \u001b[36m-:--:--\u001b[0m\r\u001b[2K   \u001b[90m━━━━━━━━━━━━━━━━━━━━━━━━━━━━━━━━━━━━━━━━\u001b[0m \u001b[32m232.1/232.1 kB\u001b[0m \u001b[31m14.8 MB/s\u001b[0m eta \u001b[36m0:00:00\u001b[0m\n",
            "\u001b[2K   \u001b[90m━━━━━━━━━━━━━━━━━━━━━━━━━━━━━━━━━━━━━━━━\u001b[0m \u001b[32m95.2/95.2 kB\u001b[0m \u001b[31m6.1 MB/s\u001b[0m eta \u001b[36m0:00:00\u001b[0m\n",
            "\u001b[2K   \u001b[90m━━━━━━━━━━━━━━━━━━━━━━━━━━━━━━━━━━━━━━━━\u001b[0m \u001b[32m217.1/217.1 kB\u001b[0m \u001b[31m13.7 MB/s\u001b[0m eta \u001b[36m0:00:00\u001b[0m\n",
            "\u001b[2K   \u001b[90m━━━━━━━━━━━━━━━━━━━━━━━━━━━━━━━━━━━━━━━━\u001b[0m \u001b[32m334.1/334.1 kB\u001b[0m \u001b[31m20.2 MB/s\u001b[0m eta \u001b[36m0:00:00\u001b[0m\n",
            "\u001b[2K   \u001b[90m━━━━━━━━━━━━━━━━━━━━━━━━━━━━━━━━━━━━━━━━\u001b[0m \u001b[32m125.1/125.1 kB\u001b[0m \u001b[31m7.5 MB/s\u001b[0m eta \u001b[36m0:00:00\u001b[0m\n",
            "\u001b[2K   \u001b[90m━━━━━━━━━━━━━━━━━━━━━━━━━━━━━━━━━━━━━━━━\u001b[0m \u001b[32m65.8/65.8 kB\u001b[0m \u001b[31m4.0 MB/s\u001b[0m eta \u001b[36m0:00:00\u001b[0m\n",
            "\u001b[2K   \u001b[90m━━━━━━━━━━━━━━━━━━━━━━━━━━━━━━━━━━━━━━━━\u001b[0m \u001b[32m119.0/119.0 kB\u001b[0m \u001b[31m7.4 MB/s\u001b[0m eta \u001b[36m0:00:00\u001b[0m\n",
            "\u001b[2K   \u001b[90m━━━━━━━━━━━━━━━━━━━━━━━━━━━━━━━━━━━━━━━━\u001b[0m \u001b[32m194.9/194.9 kB\u001b[0m \u001b[31m12.5 MB/s\u001b[0m eta \u001b[36m0:00:00\u001b[0m\n",
            "\u001b[2K   \u001b[90m━━━━━━━━━━━━━━━━━━━━━━━━━━━━━━━━━━━━━━━━\u001b[0m \u001b[32m62.5/62.5 kB\u001b[0m \u001b[31m4.2 MB/s\u001b[0m eta \u001b[36m0:00:00\u001b[0m\n",
            "\u001b[2K   \u001b[90m━━━━━━━━━━━━━━━━━━━━━━━━━━━━━━━━━━━━━━━━\u001b[0m \u001b[32m103.3/103.3 kB\u001b[0m \u001b[31m6.9 MB/s\u001b[0m eta \u001b[36m0:00:00\u001b[0m\n",
            "\u001b[2K   \u001b[90m━━━━━━━━━━━━━━━━━━━━━━━━━━━━━━━━━━━━━━━━\u001b[0m \u001b[32m44.4/44.4 kB\u001b[0m \u001b[31m2.5 MB/s\u001b[0m eta \u001b[36m0:00:00\u001b[0m\n",
            "\u001b[2K   \u001b[90m━━━━━━━━━━━━━━━━━━━━━━━━━━━━━━━━━━━━━━━━\u001b[0m \u001b[32m72.0/72.0 kB\u001b[0m \u001b[31m4.5 MB/s\u001b[0m eta \u001b[36m0:00:00\u001b[0m\n",
            "\u001b[?25h"
          ]
        }
      ]
    },
    {
      "cell_type": "code",
      "execution_count": 8,
      "metadata": {
        "id": "aePV2bdfDeoW"
      },
      "outputs": [],
      "source": [
        "from google.adk.agents import Agent\n",
        "from google.adk.runners import Runner\n",
        "from google.adk.sessions import InMemorySessionService # memoria interna desse agente.\n",
        "from google.adk.tools import google_search # ferramenta do google\n",
        "from google.genai import types  # Para criar conteúdos (Content e Part)\n",
        "from datetime import date\n",
        "import textwrap # Para formatar melhor a saída de texto\n",
        "from IPython.display import display, Markdown # Para exibir texto formatado no Colab\n",
        "import requests # Para fazer requisições HTTP\n",
        "import warnings\n",
        "\n",
        "warnings.filterwarnings(\"ignore\")"
      ]
    },
    {
      "cell_type": "code",
      "source": [
        "# Função auxiliar que envia uma mensagem para um agente via Runner e retorna a resposta final\n",
        "def call_agent(agent: Agent, message_text: str) -> str:\n",
        "    # Cria um serviço de sessão em memória\n",
        "    session_service = InMemorySessionService()\n",
        "    # Cria uma nova sessão (você pode personalizar os IDs conforme necessário)\n",
        "    session = session_service.create_session(app_name=agent.name, user_id=\"user1\", session_id=\"session1\")\n",
        "    # Cria um Runner para o agente\n",
        "    runner = Runner(agent=agent, app_name=agent.name, session_service=session_service)\n",
        "    # Cria o conteúdo da mensagem de entrada\n",
        "    content = types.Content(role=\"user\", parts=[types.Part(text=message_text)])\n",
        "\n",
        "    final_response = \"\"\n",
        "    # Itera assincronamente pelos eventos retornados durante a execução do agente\n",
        "    for event in runner.run(user_id=\"user1\", session_id=\"session1\", new_message=content):\n",
        "        if event.is_final_response():\n",
        "          for part in event.content.parts:\n",
        "            if part.text is not None:\n",
        "              final_response += part.text\n",
        "              final_response += \"\\n\"\n",
        "    return final_response"
      ],
      "metadata": {
        "id": "_xP4lWhsS5ko"
      },
      "execution_count": 9,
      "outputs": []
    },
    {
      "cell_type": "code",
      "source": [
        "# Função auxiliar para exibir texto formatado em Markdown no Colab\n",
        "def to_markdown(text):\n",
        "  text = text.replace('•', '  *')\n",
        "  return Markdown(textwrap.indent(text, '> ', predicate=lambda _: True))"
      ],
      "metadata": {
        "id": "8dosiodaxfFR"
      },
      "execution_count": 10,
      "outputs": []
    },
    {
      "cell_type": "code",
      "source": [
        "##########################################\n",
        "# --- Agente 1: Buscador de Notícias --- #\n",
        "##########################################\n",
        "\n",
        "def agente_buscador(topico, data_de_hoje):\n",
        "  buscador = Agent(\n",
        "      name =\"agente_buscador\",\n",
        "      model=\"gemini-2.0-flash\",\n",
        "      description=\"agente de buscar informações no google\",\n",
        "      tools=[google_search],\n",
        "      instruction=\"\"\"\n",
        "      Você é um assistente de pesquisa. A sua tarefa é usar a ferramenta de busca do (google_search) para recuperar as últimas notícias de lançamentos muito relevantes sobre o tópico abaixo.\n",
        "      Foque em no máximo 5 lançamentos relevantes, com base na quantidade e entusiasmo das notícias sobre ele.\n",
        "      Se um tema tiver poucas notícias ou reações entusiasmadas, é posspivel que ele não seja tão relevante aasim\n",
        "      esse lançamenbto relevantes devem ser atuais, de no máximo um mês antes da data de hoje.\n",
        "      \"\"\"\n",
        "  )\n",
        "\n",
        "  entrada_do_agente_buscador = f\"Tópico: {topico}\\nData de hoje: {data_de_hoje}\"\n",
        "  # Executa o agente\n",
        "  lancamentos_buscados = call_agent(buscador, entrada_do_agente_buscador)\n",
        "  return lancamentos_buscados"
      ],
      "metadata": {
        "id": "o8bqIfi_DyH8"
      },
      "execution_count": 11,
      "outputs": []
    },
    {
      "cell_type": "code",
      "source": [
        "################################################\n",
        "# --- Agente 2: Planejador de posts --- #\n",
        "################################################\n",
        "def agente_planejador(topico, lancamentos_buscados):\n",
        "    planejador = Agent(\n",
        "        name=\"agente_planejador\",\n",
        "        model=\"gemini-2.0-flash\",\n",
        "        # Inserir as instruções do Agente Planejador #################################################\n",
        "        instruction=\"\"\"\n",
        "\n",
        "        Você é um planejador de conteúdo, especialista em redes sociais. Com base na lista de lanlamentos mais recentes e revelantes buscador, você deve:\n",
        "        usar a ferramenta de busca do google (google_search) para criar um plano sobre quais são os pontos mais relevantes que poderíamos abordar em um post sobre cada um deles. Você também pode usar o (google_search) para encontrar mais\n",
        "        informações sobre os temas e aprofundar.\n",
        "        Ao final, você irá escolher o tema mais relevante entre eles com base nas suas pesquisas e retornar esse tema, seus pontos mais relevantes, e um plano com os asuntos\n",
        "        a serem abordados no post que será escrito posteriormente.\n",
        "        \"\"\",\n",
        "        description=\"Agente que planeja posts\",\n",
        "        tools=[google_search]\n",
        "    )\n",
        "\n",
        "    entrada_do_agente_planejador = f\"Tópico:{topico}\\nLançamentos buscados: {lancamentos_buscados}\"\n",
        "    # Executa o agente\n",
        "    plano_do_post = call_agent(planejador, entrada_do_agente_planejador)\n",
        "    return plano_do_post"
      ],
      "metadata": {
        "id": "y3VO1uo5_ghO"
      },
      "execution_count": 12,
      "outputs": []
    },
    {
      "cell_type": "code",
      "source": [
        "######################################\n",
        "# --- Agente 3: Redator do Post --- #\n",
        "######################################\n",
        "def agente_redator(topico, plano_de_post):\n",
        "    redator = Agent(\n",
        "        name=\"agente_redator\",\n",
        "        model=\"gemini-2.0-flash\",\n",
        "        instruction=\"\"\"\n",
        "            Você é um Redator Criativo especializado em criar posts virais para redes sociais.\n",
        "            Você escreve posts para a empresa Alura, a maior escola online de tecnologia do Brasil.\n",
        "            Utilize o tema fornecido no plano de post e os pontos mais relevantes fornecidos e, com base nisso,\n",
        "            escreva um rascunho de post para Instagram sobre o tema indicado.\n",
        "            O post deve ser engajador, informativo, com linguagem simples e incluir 2 a 4 hashtags no final.\n",
        "            \"\"\",\n",
        "        description=\"Agente redator de posts engajadores para Instagram\"\n",
        "    )\n",
        "    entrada_do_agente_redator = f\"Tópico: {topico}\\nPlano de post: {plano_de_post}\"\n",
        "    # Executa o agente\n",
        "    rascunho = call_agent(redator, entrada_do_agente_redator)\n",
        "    return rascunho"
      ],
      "metadata": {
        "id": "uOqlg2TRLVh1"
      },
      "execution_count": 13,
      "outputs": []
    },
    {
      "cell_type": "code",
      "source": [
        "##########################################\n",
        "# --- Agente 4: Revisor de Qualidade --- #\n",
        "##########################################\n",
        "def agente_revisor(topico, rascunho_gerado):\n",
        "    revisor = Agent(\n",
        "        name=\"agente_revisor\",\n",
        "        model=\"gemini-2.0-flash\",\n",
        "        instruction=\"\"\"\n",
        "            Você é um Editor e Revisor de Conteúdo meticuloso, especializado em posts para redes sociais, com foco no Instagram.\n",
        "            Por ter um público jovem, entre 18 e 30 anos, use um tom de escrita adequado.\n",
        "            Revise o rascunho de post de Instagram abaixo sobre o tópico indicado, verificando clareza, concisão, correção e tom.\n",
        "            Se o rascunho estiver bom, responda apenas 'O rascunho está ótimo e pronto para publicar!'.\n",
        "            Caso haja problemas, aponte-os e sugira melhorias.\n",
        "            \"\"\",\n",
        "        description=\"Agente revisor de post para redes sociais.\"\n",
        "    )\n",
        "    entrada_do_agente_revisor = f\"Tópico: {topico}\\nRascunho: {rascunho_gerado}\"\n",
        "    # Executa o agente\n",
        "    texto_revisado = call_agent(revisor, entrada_do_agente_revisor)\n",
        "    return texto_revisado"
      ],
      "metadata": {
        "id": "_aTb1SdkLeT6"
      },
      "execution_count": 14,
      "outputs": []
    },
    {
      "cell_type": "code",
      "source": [
        "data_de_hoje = date.today().strftime(\"%d/%m/%Y\")\n",
        "\n",
        "print(\"🚀 Iniciando o Sistema de Criação de Posts para Instagram com 4 Agentes 🚀\")\n",
        "\n",
        "# --- Obter o Tópico do Usuário ---\n",
        "topico = input(\"❓ Por favor, digite o TÓPICO sobre o qual você quer criar o post de tendências: \")\n",
        "\n",
        "# Inserir lógica do sistema de agentes ################################################\n",
        "if not topico:\n",
        "    print(\"Você esqueceu de digitar o tópico!\")\n",
        "else:\n",
        "    print(f\"Maravilha! Vamos então criar o post sobre novidades em {topico}\")\n",
        "\n",
        "    lancamentos_buscados = agente_buscador(topico, data_de_hoje)\n",
        "    print(\"\\n--- 📝 Resultado do Agente 1 (Buscador) ---\\n\")\n",
        "    display(to_markdown(lancamentos_buscados))\n",
        "    print(\"--------------------------------------------------------------\")\n",
        "\n",
        "    plano_de_post = agente_planejador(topico, lancamentos_buscados)\n",
        "    print(\"\\n--- 📝 Resultado do Agente 2 (Planejador) ---\\n\")\n",
        "    display(to_markdown(plano_de_post))\n",
        "    print(\"--------------------------------------------------------------\")\n",
        "\n",
        "    rascunho_de_post = agente_redator(topico, plano_de_post)\n",
        "    print(\"\\n--- 📝 Resultado do Agente 3 (Redator) ---\\n\")\n",
        "    display(to_markdown(rascunho_de_post))\n",
        "    print(\"--------------------------------------------------------------\")\n",
        "\n",
        "    post_final = agente_revisor(topico, rascunho_de_post)\n",
        "    print(\"\\n--- 📝 Resultado do Agente 4 (Revisor) ---\\n\")\n",
        "    display(to_markdown(post_final))\n",
        "    print(\"--------------------------------------------------------------\")"
      ],
      "metadata": {
        "id": "630ummxz4myx",
        "colab": {
          "base_uri": "https://localhost:8080/",
          "height": 1000
        },
        "outputId": "652644ee-6dc4-4561-dc46-f97b3566130f"
      },
      "execution_count": 15,
      "outputs": [
        {
          "output_type": "stream",
          "name": "stdout",
          "text": [
            "🚀 Iniciando o Sistema de Criação de Posts para Instagram com 4 Agentes 🚀\n",
            "❓ Por favor, digite o TÓPICO sobre o qual você quer criar o post de tendências: academia\n",
            "Maravilha! Vamos então criar o post sobre novidades em academia\n",
            "\n",
            "--- 📝 Resultado do Agente 1 (Buscador) ---\n",
            "\n"
          ]
        },
        {
          "output_type": "display_data",
          "data": {
            "text/plain": [
              "<IPython.core.display.Markdown object>"
            ],
            "text/markdown": "> Para fornecer as informações mais recentes sobre lançamentos relevantes na área de academia, realizarei algumas buscas no Google. Meu objetivo é encontrar novidades que tenham gerado bastante atenção e entusiasmo no último mês.\n> \n> \n> Com base nas minhas buscas, aqui estão alguns lançamentos e tendências relevantes na área de academia para 2025:\n> \n> 1.  **Tecnologia Vestível Avançada:** Smartwatches e rastreadores de atividade física estão se tornando mais sofisticados, oferecendo monitoramento em tempo real e integração com treinos. A expectativa é que, em 2025, esses dispositivos sejam integrados à inteligência artificial, permitindo análises detalhadas do desempenho físico e oferecendo sugestões personalizadas de treino.\n> \n> 2.  **Aplicativos Móveis Imersivos:** Combinando realidade aumentada (AR) e realidade virtual (VR), os aplicativos de treino prometem enriquecer a experiência dos alunos, proporcionando interatividade e personalização diretamente no smartphone.\n> \n> 3.  **Equipamentos Fitness de Recuperação:** Equipamentos voltados para recuperação e bem-estar, como cadeiras de massagem, máquinas de crioterapia e saunas, estão ganhando espaço nas academias. A popularidade dos alongamentos também continuará a crescer, à medida que os clientes buscam maneiras mais eficazes de prevenir lesões e melhorar a performance.\n> \n> 4.  **Treinamento Híbrido:** O futuro das academias será híbrido, combinando treinos presenciais com plataformas online. Essa abordagem oferece flexibilidade e conveniência, atendendo a diferentes perfis de alunos.\n> \n> 5.  **Programas de Condicionamento Físico para Idosos:** Com o aumento da longevidade, a atividade física para idosos ganha destaque. Em 2025, espera-se um crescimento significativo de programas voltados para a terceira idade, focados em melhorar a qualidade de vida e prevenir doenças crônicas.\n> \n> Além dessas tendências, outras inovações notáveis incluem o uso de inteligência artificial em equipamentos, permitindo que se adaptem ao treino em tempo real, e a gamificação dos treinos, com a inclusão de desafios e recompensas para engajar os alunos. A conscientização sobre a longevidade e a importância de cuidados integrados, que englobam a alimentação e a saúde mental, também são destaques para 2025.\n"
          },
          "metadata": {}
        },
        {
          "output_type": "stream",
          "name": "stdout",
          "text": [
            "--------------------------------------------------------------\n",
            "\n",
            "--- 📝 Resultado do Agente 2 (Planejador) ---\n",
            "\n"
          ]
        },
        {
          "output_type": "display_data",
          "data": {
            "text/plain": [
              "<IPython.core.display.Markdown object>"
            ],
            "text/markdown": "> Okay, com base nas informações que você forneceu e em minhas próprias buscas, vou criar um plano de conteúdo para cada um dos tópicos listados, identificando os pontos mais relevantes e elaborando sugestões de abordagem para um post de mídia social.\n> \n> **1. Tecnologia Vestível Avançada:**\n> \n> *   **Pontos Relevantes:**\n>     *   Integração de IA para análise detalhada e personalizada do desempenho.\n>     *   Monitoramento em tempo real (frequência cardíaca, sono, etc.).\n>     *   Sugestões de treino adaptadas ao usuário.\n>     *   Conectividade com outros dispositivos e aplicativos de saúde.\n> *   **Plano de Conteúdo:**\n>     *   Título chamativo: \"Seu Personal Trainer no Pulso: A Revolução da IA nos Smartwatches Fitness!\"\n>     *   Imagem/Vídeo: Um vídeo curto mostrando um smartwatch em ação, exibindo dados e personalizações de treino.\n>     *   Tópicos a serem abordados:\n>         *   O que são wearables e como eles evoluíram.\n>         *   Como a IA está transformando o monitoramento fitness.\n>         *   Exemplos de smartwatches com funcionalidades avançadas.\n>         *   Benefícios de usar wearables para otimizar seus treinos.\n>         *   O futuro da tecnologia vestível e o que esperar em 2025.\n>     *   Call to Action: \"Descubra como a tecnologia vestível pode turbinar seus resultados! Link na bio para saber mais.\"\n> \n> **2. Aplicativos Móveis Imersivos (AR/VR):**\n> \n> *   **Pontos Relevantes:**\n>     *   Experiência de treino interativa e personalizada.\n>     *   Realidade aumentada para sobrepor informações ao mundo real.\n>     *   Realidade virtual para simular ambientes de treino.\n>     *   Gamificação e desafios para aumentar o engajamento.\n> *   **Plano de Conteúdo:**\n>     *   Título chamativo: \"Academia na Palma da Mão: A Revolução AR/VR nos Seus Treinos!\"\n>     *   Imagem/Vídeo: Um vídeo curto mostrando um app de AR/VR em uso, com alguém treinando em um ambiente virtual ou com informações sobrepostas.\n>     *   Tópicos a serem abordados:\n>         *   O que são aplicativos de treino AR/VR e como eles funcionam.\n>         *   Como a imersão aumenta a motivação e o engajamento.\n>         *   Exemplos de aplicativos populares com funcionalidades AR/VR.\n>         *   Benefícios de treinar com realidade aumentada e virtual.\n>         *   O futuro dos aplicativos de treino imersivos.\n>     *   Call to Action: \"Transforme seus treinos com a realidade aumentada! Experimente os melhores apps de AR/VR: link na bio.\"\n> \n> **3. Equipamentos Fitness de Recuperação:**\n> \n> *   **Pontos Relevantes:**\n>     *   Cadeiras de massagem, máquinas de crioterapia e saunas para recuperação muscular.\n>     *   Foco na prevenção de lesões e melhora da performance.\n>     *   Aumento da popularidade dos alongamentos e técnicas de relaxamento.\n> *   **Plano de Conteúdo:**\n>     *   Título chamativo: \"Recupere Como um Atleta: As Novas Tendências em Equipamentos de Recuperação!\"\n>     *   Imagem/Vídeo: Fotos ou vídeos de equipamentos de recuperação em uma academia, ou pessoas alongando.\n>     *   Tópicos a serem abordados:\n>         *   A importância da recuperação muscular para o desempenho.\n>         *   Como equipamentos como cadeiras de massagem e crioterapia ajudam na recuperação.\n>         *   Benefícios dos alongamentos e técnicas de relaxamento.\n>         *   Como incorporar a recuperação na sua rotina de treino.\n>     *   Call to Action: \"Leve a sério a recuperação muscular e previna lesões! Agende uma sessão de recuperação na nossa academia: link na bio.\"\n> \n> **4. Treinamento Híbrido:**\n> \n> *   **Pontos Relevantes:**\n>     *   Combinação de treinos presenciais e plataformas online.\n>     *   Flexibilidade e conveniência para diferentes perfis de alunos.\n>     *   Acesso a treinos personalizados e acompanhamento remoto.\n> *   **Plano de Conteúdo:**\n>     *   Título chamativo: \"O Futuro do Fitness é Híbrido: Treine Onde e Quando Quiser!\"\n>     *   Imagem/Vídeo: Um vídeo curto mostrando pessoas treinando tanto na academia quanto em casa, com acompanhamento online.\n>     *   Tópicos a serem abordados:\n>         *   O que é treinamento híbrido e como ele funciona.\n>         *   Benefícios de combinar treinos presenciais e online.\n>         *   Como encontrar um programa de treinamento híbrido adequado.\n>         *   Dicas para aproveitar ao máximo o treinamento híbrido.\n>     *   Call to Action: \"Descubra a liberdade do treinamento híbrido! Saiba mais sobre nossos programas online e presenciais: link na bio.\"\n> \n> **5. Programas de Condicionamento Físico para Idosos:**\n> \n> *   **Pontos Relevantes:**\n>     *   Foco na melhoria da qualidade de vida e prevenção de doenças crônicas.\n>     *   Exercícios adaptados às necessidades e limitações da terceira idade.\n>     *   Crescimento significativo da demanda por programas específicos.\n> *   **Plano de Conteúdo:**\n>     *   Título chamativo: \"Viva Mais e Melhor: Programas de Condicionamento Físico para a Terceira Idade!\"\n>     *   Imagem/Vídeo: Fotos ou vídeos de idosos se exercitando em um ambiente seguro e supervisionado.\n>     *   Tópicos a serem abordados:\n>         *   A importância da atividade física para a saúde dos idosos.\n>         *   Benefícios de programas de condicionamento físico específicos.\n>         *   Exemplos de exercícios seguros e eficazes para a terceira idade.\n>         *   Como encontrar um programa adequado e começar a se exercitar.\n>     *   Call to Action: \"Invista na sua saúde e bem-estar na terceira idade! Conheça nossos programas especiais para idosos: link na bio.\"\n> \n> **Escolha do Tema Mais Relevante e Plano Detalhado:**\n> \n> Considerando o contexto atual e as tendências para 2025, o tema mais relevante para um post de mídia social sobre academia é o **Treinamento Híbrido**. A combinação de treinos presenciais e online oferece flexibilidade e conveniência, atendendo a uma gama maior de pessoas com diferentes estilos de vida e preferências.\n> \n> **Plano Detalhado para o Post sobre Treinamento Híbrido:**\n> \n> *   **Título:** \"O Futuro do Fitness é Híbrido: Treine Onde e Quando Quiser!\" (ou um título similar, chamativo e direto).\n> *   **Imagem/Vídeo:** Um vídeo curto e dinâmico mostrando pessoas treinando em diferentes cenários (academia, casa, ao ar livre), utilizando plataformas online para acompanhamento e orientação.\n> *   **Conteúdo do Post:**\n>     *   **Introdução:**\n>         *   Uma frase impactante sobre a evolução do fitness e a necessidade de flexibilidade.\n>         *   Definição concisa de treinamento híbrido: \"A combinação perfeita entre treinos presenciais e online, para você alcançar seus objetivos onde e quando quiser.\"\n>     *   **Corpo do Post:**\n>         *   **Benefícios do Treinamento Híbrido:**\n>             *   **Flexibilidade:** Adapte os treinos à sua rotina e compromissos.\n>             *   **Conveniência:** Treine onde e quando for mais fácil para você.\n>             *   **Variedade:** Experimente diferentes modalidades e estilos de treino.\n>             *   **Acompanhamento Personalizado:** Tenha acesso a orientação profissional online e presencial.\n>             *   **Resultados:** Maximize seus resultados com um plano de treino completo e adaptado às suas necessidades.\n>         *   **Como Encontrar um Programa de Treinamento Híbrido Adequado:**\n>             *   Pesquise academias e profissionais que ofereçam programas híbridos.\n>             *   Verifique a qualidade do conteúdo online e o suporte oferecido.\n>             *   Considere seus objetivos e preferências ao escolher um programa.\n>         *   **Dicas para Aproveitar ao Máximo o Treinamento Híbrido:**\n>             *   Defina metas claras e realistas.\n>             *   Crie uma rotina de treino consistente.\n>             *   Aproveite os recursos online e o acompanhamento profissional.\n>             *   Mantenha-se motivado e engajado com a comunidade online.\n>     *   **Conclusão:**\n>         *   Reafirme a importância do treinamento híbrido como o futuro do fitness.\n>         *   Incentive os seguidores a experimentar essa modalidade.\n> *   **Call to Action:** \"Descubra a liberdade do treinamento híbrido! Saiba mais sobre nossos programas online e presenciais e comece a treinar hoje mesmo: link na bio.\"\n> *   **Hashtags:** #treinamentohibrido #fitness #academia #treinoonline #saude #bemestar #qualidadedevida #futurodofitness\n> \n> Espero que este plano detalhado seja útil para a criação do seu post!\n> \n"
          },
          "metadata": {}
        },
        {
          "output_type": "stream",
          "name": "stdout",
          "text": [
            "--------------------------------------------------------------\n",
            "\n",
            "--- 📝 Resultado do Agente 3 (Redator) ---\n",
            "\n"
          ]
        },
        {
          "output_type": "display_data",
          "data": {
            "text/plain": [
              "<IPython.core.display.Markdown object>"
            ],
            "text/markdown": "> **💪 O Futuro do Fitness é Híbrido: Treine Onde e Quando Quiser! 🚀**\n> \n> Chegou a hora de revolucionar seus treinos! 🤩 Já pensou em combinar a energia da academia com a praticidade de treinar onde e quando quiser? 🤔 Com o treinamento híbrido, você tem o melhor dos dois mundos!\n> \n> ✅ **Flexibilidade:** Adapte os treinos à sua rotina, sem desculpas!\n> ✅ **Conveniência:** Sua academia no bolso, 24/7.\n> ✅ **Resultados:** Acompanhamento online + presencial para turbinar seus objetivos!\n> \n> Descubra como o treinamento híbrido pode transformar sua vida! ✨\n> \n> 👉 Quer saber mais sobre nossos programas online e presenciais? Clique no link da bio e comece a treinar hoje mesmo! 😉\n> \n> #treinamentohibrido #fitness #academia #saude\n"
          },
          "metadata": {}
        },
        {
          "output_type": "stream",
          "name": "stdout",
          "text": [
            "--------------------------------------------------------------\n",
            "\n",
            "--- 📝 Resultado do Agente 4 (Revisor) ---\n",
            "\n"
          ]
        },
        {
          "output_type": "display_data",
          "data": {
            "text/plain": [
              "<IPython.core.display.Markdown object>"
            ],
            "text/markdown": "> O rascunho está bom, mas podemos fazer alguns ajustes para deixá-lo ainda mais atraente para o público do Instagram:\n> \n> *   **Emojis:** Use emojis de forma mais estratégica para quebrar o texto e destacar os benefícios.\n> *   **Chamada para Ação (CTA):** A CTA poderia ser mais direta e urgente.\n> *   **Hashtags:** Adicione hashtags mais específicas para aumentar o alcance.\n> \n> **Sugestão de revisão:**\n> \n> **💪 TREINO HÍBRIDO: A solução pra quem não tem tempo! 🚀**\n> \n> Chegou a hora de dar um UP nos seus treinos! 🤩 Já pensou em ter a energia da academia combinada com a liberdade de treinar onde e quando quiser? 🤔 Com o treino híbrido, você tem o melhor dos dois mundos! 🌍 + 📱\n> \n> ✅ **Flexibilidade:** Sem tempo? Sem problema! 💪 Adapte o treino à sua rotina.\n> ✅ **Praticidade:** Leve a academia com você! 🏋️‍♀️Seu treino 24/7, onde estiver.\n> ✅ **Resultados:** Acompanhamento online + presencial = FOCO nos seus objetivos! 🎯\n> \n> Descubra como o treino híbrido pode te ajudar a ter mais resultados! ✨\n> \n> 👉 Quer saber mais e começar AGORA? 🚨 Clique no link da bio e bora treinar! 😉\n> \n> \\#treinohibrido \\#fitness \\#academia \\#vidasaudavel \\#semdesculpas \\#foconotreino\n> \n"
          },
          "metadata": {}
        },
        {
          "output_type": "stream",
          "name": "stdout",
          "text": [
            "--------------------------------------------------------------\n"
          ]
        }
      ]
    }
  ]
}